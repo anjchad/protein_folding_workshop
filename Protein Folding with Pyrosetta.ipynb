{
 "cells": [
  {
   "cell_type": "markdown",
   "metadata": {},
   "source": [
    "# Protein Folding with Pyrosetta"
   ]
  },
  {
   "cell_type": "markdown",
   "metadata": {},
   "source": [
    "In this tutorial, we will fold a protein structure using a very simple algorithm in PyRosetta, and compare the folded structure with the solved crystal structure of the protein."
   ]
  },
  {
   "cell_type": "markdown",
   "metadata": {},
   "source": [
    "### Importing relevant libraries"
   ]
  },
  {
   "cell_type": "markdown",
   "metadata": {},
   "source": [
    "We begin by importing the relevant libraries from Python. If running the following cell produces any errors or warnings, make sure you have followed all the steps in the \"Setting up Pyrosetta\" section."
   ]
  },
  {
   "cell_type": "code",
   "execution_count": 1,
   "metadata": {},
   "outputs": [
    {
     "name": "stdout",
     "output_type": "stream",
     "text": [
      "core.init: Checking for fconfig files in pwd and ./rosetta/flags\n",
      "core.init: Rosetta version: PyRosetta4.Release.python36.mac r213 2019.10+release.fd1bdffb01b fd1bdffb01b7866da84942b9bf1b06e96270656e http://www.pyrosetta.org 2019-03-05T15:28:05\n",
      "core.init: command: PyRosetta -ex1 -ex2aro -database /anaconda3/envs/pyrosetta/lib/python3.6/site-packages/pyrosetta-2019.10+release.fd1bdffb01b-py3.6-macosx-10.7-x86_64.egg/pyrosetta/database\n",
      "core.init: 'RNG device' seed mode, using '/dev/urandom', seed=1149888667 seed_offset=0 real_seed=1149888667\n",
      "core.init.random: RandomGenerator:init: Normal mode, seed=1149888667 RG_type=mt19937\n"
     ]
    }
   ],
   "source": [
    "import os\n",
    "import glob\n",
    "import shutil\n",
    "import pandas as pd\n",
    "import nglview as ngl\n",
    "import pyrosetta as prs\n",
    "prs.init()\n",
    "from pyrosetta import rosetta"
   ]
  },
  {
   "cell_type": "markdown",
   "metadata": {},
   "source": [
    "### Setting up score functions that will be used across parts"
   ]
  },
  {
   "cell_type": "code",
   "execution_count": 2,
   "metadata": {},
   "outputs": [
    {
     "name": "stdout",
     "output_type": "stream",
     "text": [
      "basic.io.database: Database file opened: scoring/score_functions/EnvPairPotential/env_log.txt\n",
      "basic.io.database: Database file opened: scoring/score_functions/EnvPairPotential/cbeta_den.txt\n",
      "basic.io.database: Database file opened: scoring/score_functions/EnvPairPotential/pair_log.txt\n",
      "basic.io.database: Database file opened: scoring/score_functions/EnvPairPotential/cenpack_log.txt\n",
      "basic.io.database: Database file opened: scoring/score_functions/SecondaryStructurePotential/phi.theta.36.HS.resmooth\n",
      "basic.io.database: Database file opened: scoring/score_functions/SecondaryStructurePotential/phi.theta.36.SS.resmooth\n",
      "core.scoring.ScoreFunctionFactory: SCOREFUNCTION: ref2015\n",
      "core.scoring.etable: Starting energy table calculation\n",
      "core.scoring.etable: smooth_etable: changing atr/rep split to bottom of energy well\n",
      "core.scoring.etable: smooth_etable: spline smoothing lj etables (maxdis = 6)\n",
      "core.scoring.etable: smooth_etable: spline smoothing solvation etables (max_dis = 6)\n",
      "core.scoring.etable: Finished calculating energy tables.\n",
      "basic.io.database: Database file opened: scoring/score_functions/hbonds/ref2015_params/HBPoly1D.csv\n",
      "basic.io.database: Database file opened: scoring/score_functions/hbonds/ref2015_params/HBFadeIntervals.csv\n",
      "basic.io.database: Database file opened: scoring/score_functions/hbonds/ref2015_params/HBEval.csv\n",
      "basic.io.database: Database file opened: scoring/score_functions/hbonds/ref2015_params/DonStrength.csv\n",
      "basic.io.database: Database file opened: scoring/score_functions/hbonds/ref2015_params/AccStrength.csv\n",
      "core.chemical.GlobalResidueTypeSet: Finished initializing fa_standard residue type set.  Created 696 residue types\n",
      "core.chemical.GlobalResidueTypeSet: Total time to initialize 0.651845 seconds.\n",
      "basic.io.database: Database file opened: scoring/score_functions/rama/fd/all.ramaProb\n",
      "basic.io.database: Database file opened: scoring/score_functions/rama/fd/prepro.ramaProb\n",
      "basic.io.database: Database file opened: scoring/score_functions/omega/omega_ppdep.all.txt\n",
      "basic.io.database: Database file opened: scoring/score_functions/omega/omega_ppdep.gly.txt\n",
      "basic.io.database: Database file opened: scoring/score_functions/omega/omega_ppdep.pro.txt\n",
      "basic.io.database: Database file opened: scoring/score_functions/omega/omega_ppdep.valile.txt\n",
      "basic.io.database: Database file opened: scoring/score_functions/P_AA_pp/P_AA\n",
      "basic.io.database: Database file opened: scoring/score_functions/P_AA_pp/P_AA_n\n",
      "core.scoring.P_AA: shapovalov_lib::shap_p_aa_pp_smooth_level of 1( aka low_smooth ) got activated.\n",
      "basic.io.database: Database file opened: scoring/score_functions/P_AA_pp/shapovalov/10deg/kappa131/a20.prop\n"
     ]
    }
   ],
   "source": [
    "scorefxn_low = prs.create_score_function('score3')\n",
    "scorefxn_high = prs.get_fa_scorefxn()"
   ]
  },
  {
   "cell_type": "markdown",
   "metadata": {},
   "source": [
    "### Loading the native (solved crystal) structure"
   ]
  },
  {
   "cell_type": "code",
   "execution_count": 40,
   "metadata": {},
   "outputs": [
    {
     "name": "stdout",
     "output_type": "stream",
     "text": [
      "core.import_pose.import_pose: File 'data/1BL0/1BL0_chainA.pdb' automatically determined to be of type PDB\n"
     ]
    }
   ],
   "source": [
    "native_pose = prs.pose_from_pdb('data/1BL0/1BL0_chainA.pdb')"
   ]
  },
  {
   "cell_type": "markdown",
   "metadata": {},
   "source": [
    "We can check the amino acid sequence of the structure with a very simple command."
   ]
  },
  {
   "cell_type": "code",
   "execution_count": 41,
   "metadata": {
    "scrolled": true
   },
   "outputs": [
    {
     "data": {
      "text/plain": [
       "'DAITIHSILDWIEDNLESPLSLEKVSERSGYSKWHLQRMFKKETGHSLGQYIRSRKMTEIAQKLKESNEPILYLAERYGFESQQTLTRTFKNYFDVPPHKYRMTNMQGESRFLHPL'"
      ]
     },
     "execution_count": 41,
     "metadata": {},
     "output_type": "execute_result"
    }
   ],
   "source": [
    "native_pose.sequence()"
   ]
  },
  {
   "cell_type": "markdown",
   "metadata": {},
   "source": [
    "We can also assign the correct secondary structure.\n"
   ]
  },
  {
   "cell_type": "code",
   "execution_count": 42,
   "metadata": {},
   "outputs": [
    {
     "name": "stdout",
     "output_type": "stream",
     "text": [
      "protocols.DsspMover: LHHHHHHHHHHHHLLLLLLLLLHHHHHHLLLLHHHHHHHHHHHHLLLHHHHHHHHHHHHHHHHHHHLLLLHHHHHHHHLLLLHHHHHHHHHHHHLLLHHHHHLLLLLLLLLLLLLL\n"
     ]
    }
   ],
   "source": [
    "DSSP = prs.rosetta.protocols.moves.DsspMover()\n",
    "DSSP.apply(native_pose)    # populates the pose's Pose.secstruct"
   ]
  },
  {
   "cell_type": "markdown",
   "metadata": {},
   "source": [
    "#### Hint: The amino acids are also called residues!\n",
    "\n",
    "Let's view more information about the first residue of the protein."
   ]
  },
  {
   "cell_type": "code",
   "execution_count": 43,
   "metadata": {},
   "outputs": [
    {
     "name": "stdout",
     "output_type": "stream",
     "text": [
      "Residue 1: ASP:NtermProteinFull (ASP, D):\n",
      "Base: ASP\n",
      " Properties: POLYMER PROTEIN CANONICAL_AA LOWER_TERMINUS SC_ORBITALS POLAR CHARGED NEGATIVE_CHARGE METALBINDING ALPHA_AA L_AA\n",
      " Variant types: LOWER_TERMINUS_VARIANT\n",
      " Main-chain atoms:  N    CA   C  \n",
      " Backbone atoms:    N    CA   C    O   1H   2H   3H    HA \n",
      " Side-chain atoms:  CB   CG   OD1  OD2 1HB  2HB \n",
      "Atom Coordinates:\n",
      "   N  : 0.229, 36.012, 74.172\n",
      "   CA : 0.041, 35.606, 75.594\n",
      "   C  : -0.096, 36.849, 76.498\n",
      "   O  : -0.951, 36.895, 77.382\n",
      "   CB : 1.225, 34.718, 76.092\n",
      "   CG : 2.159, 34.156, 74.999\n",
      "   OD1: 1.688, 33.361, 74.151\n",
      "   OD2: 3.378, 34.497, 75.007\n",
      "  1H  : 1.056, 35.74, 73.68\n",
      "  2H  : -0.43, 35.723, 73.478\n",
      "  3H  : 0.251, 36.981, 73.928\n",
      "   HA : -0.884, 35.037, 75.696\n",
      "  1HB : 1.839, 35.199, 76.854\n",
      "  2HB : 0.67, 33.892, 76.539\n",
      "Mirrored relative to coordinates in ResidueType: FALSE\n",
      "\n"
     ]
    }
   ],
   "source": [
    "print(native_pose.residue(1))"
   ]
  },
  {
   "cell_type": "code",
   "execution_count": 44,
   "metadata": {},
   "outputs": [],
   "source": [
    "pose = prs.pose_from_sequence(native_pose.sequence())\n",
    "test_pose = prs.Pose()\n",
    "test_pose.assign(pose)\n",
    "test_pose.pdb_info().name('Linearized Pose')"
   ]
  },
  {
   "cell_type": "code",
   "execution_count": 45,
   "metadata": {},
   "outputs": [
    {
     "data": {
      "application/vnd.jupyter.widget-view+json": {
       "model_id": "67c5f220ca734a42af9d7f377c71cf88",
       "version_major": 2,
       "version_minor": 0
      },
      "text/plain": [
       "NGLWidget()"
      ]
     },
     "metadata": {},
     "output_type": "display_data"
    }
   ],
   "source": [
    "view = ngl.show_rosetta(test_pose)\n",
    "view.add_ball_and_stick()\n",
    "view  # zoom in to see the atoms!"
   ]
  },
  {
   "cell_type": "markdown",
   "metadata": {},
   "source": [
    "## Defining movers to switch from full-atom to centroid representation"
   ]
  },
  {
   "cell_type": "markdown",
   "metadata": {},
   "source": [
    "We will be using the centroid representation to perform rough and fast scoring in the initial stages of the folding algorithm. Later on, we will switch to the full atom represenation to do accurate minimization and get the final structures."
   ]
  },
  {
   "cell_type": "code",
   "execution_count": 48,
   "metadata": {},
   "outputs": [],
   "source": [
    "to_centroid = prs.SwitchResidueTypeSetMover('centroid')\n",
    "to_full_atom = prs.SwitchResidueTypeSetMover('fa_standard')"
   ]
  },
  {
   "cell_type": "code",
   "execution_count": 49,
   "metadata": {},
   "outputs": [
    {
     "name": "stdout",
     "output_type": "stream",
     "text": [
      "Full Atom Score: 46742.26828801393\n",
      "Centroid Score: 454.12286307835507\n"
     ]
    }
   ],
   "source": [
    "to_full_atom.apply(test_pose)\n",
    "print('Full Atom Score:', scorefxn_high(test_pose))\n",
    "to_centroid.apply(test_pose)\n",
    "print('Centroid Score:', scorefxn_low(test_pose))"
   ]
  },
  {
   "cell_type": "markdown",
   "metadata": {},
   "source": [
    "## Q: Visualize the centroid-only structure and see the difference with the full atom that we visualized above? Print again the information for the first residue and compare."
   ]
  },
  {
   "cell_type": "code",
   "execution_count": 83,
   "metadata": {},
   "outputs": [],
   "source": [
    "# here write the code to visualize the centroid only structure and print the information of the 1st residue"
   ]
  },
  {
   "cell_type": "markdown",
   "metadata": {},
   "source": [
    "## Setting up the folding algorithm"
   ]
  },
  {
   "cell_type": "code",
   "execution_count": 52,
   "metadata": {},
   "outputs": [],
   "source": [
    "# Loading the files with the pre-computed fragmets\n",
    "long_frag_filename = 'data/1BL0/9_fragments.txt'\n",
    "long_frag_length = 9\n",
    "short_frag_filename = 'data/1BL0/3_fragments.txt'\n",
    "short_frag_length = 3\n",
    "\n",
    "# Defining parameters of the folding algorithm\n",
    "long_inserts=5  # How many 9-fragment pieces to insest during the search\n",
    "short_inserts=10 # How many 3-fragment pieces to insest during the search\n",
    "\n",
    "kT = 3.0 # Simulated Annealing temperature\n",
    "cycles = 1000 # How many cycles of Monte Carlo search to run\n",
    "jobs = 50 # How many trajectories in parallel to compute.\n",
    "job_output = 'outputs/1BL0/decoy' # The prefix of the filenames to store the results"
   ]
  },
  {
   "cell_type": "markdown",
   "metadata": {},
   "source": [
    "#### Loading the fragmets"
   ]
  },
  {
   "cell_type": "code",
   "execution_count": 53,
   "metadata": {},
   "outputs": [
    {
     "name": "stdout",
     "output_type": "stream",
     "text": [
      "core.fragments.ConstantLengthFragSet: finished reading top 200 9mer fragments from file data/1BL0/9_fragments.txt\n",
      "core.fragments.ConstantLengthFragSet: finished reading top 200 3mer fragments from file data/1BL0/3_fragments.txt\n"
     ]
    }
   ],
   "source": [
    "movemap = prs.MoveMap()\n",
    "movemap.set_bb(True)\n",
    "\n",
    "fragset_long = rosetta.core.fragment.ConstantLengthFragSet(long_frag_length, long_frag_filename)\n",
    "long_frag_mover = rosetta.protocols.simple_moves.ClassicFragmentMover(fragset_long, movemap)\n",
    "\n",
    "fragset_short = rosetta.core.fragment.ConstantLengthFragSet(short_frag_length, short_frag_filename)\n",
    "short_frag_mover = rosetta.protocols.simple_moves.ClassicFragmentMover(fragset_short, movemap)\n",
    "\n",
    "insert_long_frag = prs.RepeatMover(long_frag_mover, long_inserts)\n",
    "insert_short_frag = prs.RepeatMover(short_frag_mover, short_inserts)"
   ]
  },
  {
   "cell_type": "markdown",
   "metadata": {},
   "source": [
    "## Q: How many 9-mer and 3-mer fragmets do we have in our database?"
   ]
  },
  {
   "cell_type": "markdown",
   "metadata": {},
   "source": [
    "#### Setting up the MonteCarlo search"
   ]
  },
  {
   "cell_type": "code",
   "execution_count": 57,
   "metadata": {},
   "outputs": [],
   "source": [
    "# Making sure the structure is in centroid-only mode for the search\n",
    "test_pose.assign(pose)\n",
    "to_centroid.apply(test_pose)"
   ]
  },
  {
   "cell_type": "code",
   "execution_count": 58,
   "metadata": {},
   "outputs": [],
   "source": [
    "# Defining what sequence of actions to do between each scoring step\n",
    "folding_mover = prs.SequenceMover()\n",
    "folding_mover.add_mover(insert_long_frag)\n",
    "folding_mover.add_mover(insert_short_frag)"
   ]
  },
  {
   "cell_type": "code",
   "execution_count": 59,
   "metadata": {},
   "outputs": [],
   "source": [
    "mc = prs.MonteCarlo(test_pose, scorefxn_low, kT)\n",
    "trial = prs.TrialMover(folding_mover, mc)"
   ]
  },
  {
   "cell_type": "code",
   "execution_count": 60,
   "metadata": {},
   "outputs": [],
   "source": [
    "# Setting up how many cycles of search to do in each trajectory\n",
    "folding = prs.RepeatMover(trial, cycles)"
   ]
  },
  {
   "cell_type": "markdown",
   "metadata": {},
   "source": [
    "#### Setting up the relax mover for the final stage"
   ]
  },
  {
   "cell_type": "code",
   "execution_count": 65,
   "metadata": {},
   "outputs": [
    {
     "name": "stdout",
     "output_type": "stream",
     "text": [
      "protocols.relax.FastRelax: Looking for default.txt\n",
      "protocols.relax.RelaxScriptManager: ================== Reading script file: /anaconda3/envs/pyrosetta/lib/python3.6/site-packages/pyrosetta-2019.10+release.fd1bdffb01b-py3.6-macosx-10.7-x86_64.egg/pyrosetta/database/sampling/relax_scripts/default.txt ==================\n",
      "protocols.relax.RelaxScriptManager: repeat %%nrepeats%%\n",
      "protocols.relax.RelaxScriptManager: ramp_repack_min 0.02  0.01     1.0\n",
      "protocols.relax.RelaxScriptManager: ramp_repack_min 0.250 0.01     0.5\n",
      "protocols.relax.RelaxScriptManager: ramp_repack_min 0.550 0.01     0.0\n",
      "protocols.relax.RelaxScriptManager: ramp_repack_min 1     0.00001  0.0\n",
      "protocols.relax.RelaxScriptManager: accept_to_best\n",
      "protocols.relax.RelaxScriptManager: endrepeat\n"
     ]
    }
   ],
   "source": [
    "fast_relax_mover = prs.rosetta.protocols.relax.FastRelax(scorefxn_high)"
   ]
  },
  {
   "cell_type": "markdown",
   "metadata": {},
   "source": [
    "### Running the folding algorithm!"
   ]
  },
  {
   "cell_type": "code",
   "execution_count": 66,
   "metadata": {},
   "outputs": [],
   "source": [
    "scores = [0] * (jobs + 1)\n",
    "scores[0] = scorefxn_low(test_pose)"
   ]
  },
  {
   "cell_type": "code",
   "execution_count": 67,
   "metadata": {},
   "outputs": [
    {
     "name": "stdout",
     "output_type": "stream",
     "text": [
      "Working on decoy: outputs/1BL0/decoy_12.pdb\n"
     ]
    }
   ],
   "source": [
    "if os.path.isdir(os.path.dirname(job_output)):\n",
    "    shutil.rmtree(os.path.dirname(job_output), ignore_errors=True)\n",
    "os.makedirs(os.path.dirname(job_output))\n",
    "jd = prs.PyJobDistributor(job_output, nstruct=jobs, scorefxn=scorefxn_high)"
   ]
  },
  {
   "cell_type": "code",
   "execution_count": 68,
   "metadata": {
    "scrolled": true
   },
   "outputs": [
    {
     "name": "stdout",
     "output_type": "stream",
     "text": [
      "Working on decoy: outputs/1BL0/decoy_36.pdb\n",
      "Working on decoy: outputs/1BL0/decoy_48.pdb\n",
      "Working on decoy: outputs/1BL0/decoy_46.pdb\n",
      "Working on decoy: outputs/1BL0/decoy_39.pdb\n"
     ]
    },
    {
     "ename": "KeyboardInterrupt",
     "evalue": "",
     "output_type": "error",
     "traceback": [
      "\u001b[0;31m---------------------------------------------------------------------------\u001b[0m",
      "\u001b[0;31mKeyboardInterrupt\u001b[0m                         Traceback (most recent call last)",
      "\u001b[0;32m<ipython-input-68-1e82f2fee17e>\u001b[0m in \u001b[0;36m<module>\u001b[0;34m\u001b[0m\n\u001b[1;32m     19\u001b[0m     \u001b[0;31m####    only apply the final Mover\u001b[0m\u001b[0;34m\u001b[0m\u001b[0;34m\u001b[0m\u001b[0;34m\u001b[0m\u001b[0m\n\u001b[1;32m     20\u001b[0m     \u001b[0;31m# b. apply the refinement protocol\u001b[0m\u001b[0;34m\u001b[0m\u001b[0;34m\u001b[0m\u001b[0;34m\u001b[0m\u001b[0m\n\u001b[0;32m---> 21\u001b[0;31m     \u001b[0mfolding\u001b[0m\u001b[0;34m.\u001b[0m\u001b[0mapply\u001b[0m\u001b[0;34m(\u001b[0m\u001b[0mtest_pose\u001b[0m\u001b[0;34m)\u001b[0m\u001b[0;34m\u001b[0m\u001b[0;34m\u001b[0m\u001b[0m\n\u001b[0m\u001b[1;32m     22\u001b[0m \u001b[0;34m\u001b[0m\u001b[0m\n\u001b[1;32m     23\u001b[0m     \u001b[0;31m####\u001b[0m\u001b[0;34m\u001b[0m\u001b[0;34m\u001b[0m\u001b[0;34m\u001b[0m\u001b[0m\n",
      "\u001b[0;31mKeyboardInterrupt\u001b[0m: "
     ]
    }
   ],
   "source": [
    "counter = 0 \n",
    "while not jd.job_complete:\n",
    "    # a. set necessary variables for the new trajectory\n",
    "    # -reload the starting pose\n",
    "    test_pose.assign(pose)\n",
    "    to_centroid.apply(test_pose)\n",
    "    # -change the pose's PDBInfo.name, for the PyMOL_Observer\n",
    "    counter += 1\n",
    "    test_pose.pdb_info().name(job_output + '_' + str(counter))\n",
    "    # -reset the MonteCarlo object (sets lowest_score to that of test_pose)\n",
    "    mc.reset(test_pose)\n",
    "\n",
    "    #### if you create a custom protocol, you may have additional\n",
    "    ####    variables to reset, such as kT\n",
    "\n",
    "    #### if you create a custom protocol, this section will most likely\n",
    "    ####    change, many protocols exist as single Movers or can be\n",
    "    ####    chained together in a sequence (see above) so you need\n",
    "    ####    only apply the final Mover\n",
    "    # b. apply the refinement protocol\n",
    "    folding.apply(test_pose)\n",
    "\n",
    "    ####\n",
    "    # c. export the lowest scoring decoy structure for this trajectory\n",
    "    # -recover the lowest scoring decoy structure\n",
    "    mc.recover_low(test_pose)\n",
    "    # -store the final score for this trajectory\n",
    "    # -convert the decoy to fullatom\n",
    "    # the sidechain conformations will all be default,\n",
    "    #    normally, the decoys would NOT be converted to fullatom before\n",
    "    #    writing them to PDB (since a large number of trajectories would\n",
    "    #    be considered and their fullatom score are unnecessary)\n",
    "    # here the fullatom mode is reproduced to make the output easier to\n",
    "    #    understand and manipulate, PyRosetta can load in PDB files of\n",
    "    #    centroid structures, however you must convert to fullatom for\n",
    "    #    nearly any other application\n",
    "    to_full_atom.apply(test_pose)\n",
    "    fast_relax_mover.apply(test_pose)\n",
    "    scores[counter] = scorefxn_high(test_pose)\n",
    "    # -output the fullatom decoy structure into a PDB file\n",
    "    jd.output_decoy(test_pose)\n",
    "    # -export the final structure to PyMOL\n",
    "    test_pose.pdb_info().name(job_output + '_' + str(counter) + '_fa')"
   ]
  },
  {
   "cell_type": "markdown",
   "metadata": {},
   "source": [
    "### Evaluating the folding results by getting the energies and RMSDs (distnace from the native pose) of each one of the predicted structures"
   ]
  },
  {
   "cell_type": "code",
   "execution_count": 69,
   "metadata": {},
   "outputs": [
    {
     "name": "stdout",
     "output_type": "stream",
     "text": [
      "core.import_pose.import_pose: File 'outputs/1BL0/decoy_46.pdb' automatically determined to be of type PDB\n",
      "core.import_pose.import_pose: File 'outputs/1BL0/decoy_36.pdb' automatically determined to be of type PDB\n",
      "core.import_pose.import_pose: File 'outputs/1BL0/decoy_12.pdb' automatically determined to be of type PDB\n",
      "core.import_pose.import_pose: File 'outputs/1BL0/decoy_48.pdb' automatically determined to be of type PDB\n"
     ]
    }
   ],
   "source": [
    "decoy_poses = [prs.pose_from_pdb(f) for f in glob.glob(job_output + '*.pdb')]"
   ]
  },
  {
   "cell_type": "code",
   "execution_count": 70,
   "metadata": {},
   "outputs": [],
   "source": [
    "def align_and_get_rmsds(native_pose, decoy_poses):\n",
    "    prs.rosetta.core.pose.full_model_info.make_sure_full_model_info_is_setup(native_pose)\n",
    "    rmsds = []\n",
    "    for p in decoy_poses:\n",
    "        prs.rosetta.core.pose.full_model_info.make_sure_full_model_info_is_setup(p)\n",
    "        rmsds += [prs.rosetta.protocols.stepwise.modeler.align.superimpose_with_stepwise_aligner(native_pose, p)]\n",
    "    return rmsds"
   ]
  },
  {
   "cell_type": "code",
   "execution_count": 71,
   "metadata": {},
   "outputs": [
    {
     "name": "stdout",
     "output_type": "stream",
     "text": [
      "protocols.stepwise.modeler.align.StepWisePoseAligner: RMSD 0.000 (0 atoms in ), superimposed on 349 atoms in 1-116 (RMSD 14.7688798)\n",
      "protocols.stepwise.modeler.align.StepWisePoseAligner: RMSD 0.000 (0 atoms in ), superimposed on 349 atoms in 1-116 (RMSD 14.6700399)\n",
      "protocols.stepwise.modeler.align.StepWisePoseAligner: RMSD 0.000 (0 atoms in ), superimposed on 349 atoms in 1-116 (RMSD 15.0408467)\n",
      "protocols.stepwise.modeler.align.StepWisePoseAligner: RMSD 0.000 (0 atoms in ), superimposed on 349 atoms in 1-116 (RMSD 17.8154239)\n"
     ]
    }
   ],
   "source": [
    "rmsds = align_and_get_rmsds(native_pose, decoy_poses)"
   ]
  },
  {
   "cell_type": "code",
   "execution_count": 78,
   "metadata": {},
   "outputs": [],
   "source": [
    "rmsd_data = []\n",
    "for i in range(1, len(decoy_poses)):  # print out the job scores\n",
    "    rmsd_data.append({'structure': decoy_poses[i].pdb_info().name(), \n",
    "                      'rmsd': rmsds[i],\n",
    "                      'energy_score': scores[i]})"
   ]
  },
  {
   "cell_type": "code",
   "execution_count": 79,
   "metadata": {},
   "outputs": [],
   "source": [
    "rmsd_df = pd.DataFrame(rmsd_data)"
   ]
  },
  {
   "cell_type": "code",
   "execution_count": 81,
   "metadata": {},
   "outputs": [
    {
     "data": {
      "text/html": [
       "<div>\n",
       "<style scoped>\n",
       "    .dataframe tbody tr th:only-of-type {\n",
       "        vertical-align: middle;\n",
       "    }\n",
       "\n",
       "    .dataframe tbody tr th {\n",
       "        vertical-align: top;\n",
       "    }\n",
       "\n",
       "    .dataframe thead th {\n",
       "        text-align: right;\n",
       "    }\n",
       "</style>\n",
       "<table border=\"1\" class=\"dataframe\">\n",
       "  <thead>\n",
       "    <tr style=\"text-align: right;\">\n",
       "      <th></th>\n",
       "      <th>energy_score</th>\n",
       "      <th>rmsd</th>\n",
       "      <th>structure</th>\n",
       "    </tr>\n",
       "  </thead>\n",
       "  <tbody>\n",
       "    <tr>\n",
       "      <th>0</th>\n",
       "      <td>71579.876477</td>\n",
       "      <td>14.670040</td>\n",
       "      <td>outputs/1BL0/decoy_36.pdb</td>\n",
       "    </tr>\n",
       "    <tr>\n",
       "      <th>1</th>\n",
       "      <td>71376.772015</td>\n",
       "      <td>15.040847</td>\n",
       "      <td>outputs/1BL0/decoy_12.pdb</td>\n",
       "    </tr>\n",
       "    <tr>\n",
       "      <th>2</th>\n",
       "      <td>72489.264360</td>\n",
       "      <td>17.815424</td>\n",
       "      <td>outputs/1BL0/decoy_48.pdb</td>\n",
       "    </tr>\n",
       "  </tbody>\n",
       "</table>\n",
       "</div>"
      ],
      "text/plain": [
       "   energy_score       rmsd                  structure\n",
       "0  71579.876477  14.670040  outputs/1BL0/decoy_36.pdb\n",
       "1  71376.772015  15.040847  outputs/1BL0/decoy_12.pdb\n",
       "2  72489.264360  17.815424  outputs/1BL0/decoy_48.pdb"
      ]
     },
     "execution_count": 81,
     "metadata": {},
     "output_type": "execute_result"
    }
   ],
   "source": [
    "rmsd_df.sort_values('rmsd')"
   ]
  },
  {
   "cell_type": "markdown",
   "metadata": {},
   "source": [
    "### Q: Plot the energy_score VS rmsd. Are the lowest energy structures the closest to the native one?"
   ]
  }
 ],
 "metadata": {
  "kernelspec": {
   "display_name": "Python 3",
   "language": "python",
   "name": "python3"
  },
  "language_info": {
   "codemirror_mode": {
    "name": "ipython",
    "version": 3
   },
   "file_extension": ".py",
   "mimetype": "text/x-python",
   "name": "python",
   "nbconvert_exporter": "python",
   "pygments_lexer": "ipython3",
   "version": "3.6.8"
  }
 },
 "nbformat": 4,
 "nbformat_minor": 1
}

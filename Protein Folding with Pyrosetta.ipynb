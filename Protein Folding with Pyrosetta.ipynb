{
 "cells": [
  {
   "cell_type": "markdown",
   "metadata": {},
   "source": [
    "# Protein Folding with Pyrosetta"
   ]
  },
  {
   "cell_type": "markdown",
   "metadata": {},
   "source": [
    "In this tutorial, we will fold a protein structure using a very simple algorithm in PyRosetta, and compare the folded structure with the solved crystal structure of the protein."
   ]
  },
  {
   "cell_type": "markdown",
   "metadata": {},
   "source": [
    "### Importing relevant libraries"
   ]
  },
  {
   "cell_type": "markdown",
   "metadata": {},
   "source": [
    "We begin by importing the relevant libraries from Python. If running the following cell produces any errors or warnings, make sure you have followed all the steps in the \"Setting up Pyrosetta\" section."
   ]
  },
  {
   "cell_type": "code",
   "execution_count": 1,
   "metadata": {},
   "outputs": [
    {
     "name": "stdout",
     "output_type": "stream",
     "text": [
      "core.init: Checking for fconfig files in pwd and ./rosetta/flags\n",
      "core.init: Rosetta version: PyRosetta4.Release.python36.mac r213 2019.10+release.fd1bdffb01b fd1bdffb01b7866da84942b9bf1b06e96270656e http://www.pyrosetta.org 2019-03-05T15:28:05\n",
      "core.init: command: PyRosetta -ex1 -ex2aro -database /anaconda3/envs/pyrosetta/lib/python3.6/site-packages/pyrosetta-2019.10+release.fd1bdffb01b-py3.6-macosx-10.7-x86_64.egg/pyrosetta/database\n",
      "core.init: 'RNG device' seed mode, using '/dev/urandom', seed=-433964417 seed_offset=0 real_seed=-433964417\n",
      "core.init.random: RandomGenerator:init: Normal mode, seed=-433964417 RG_type=mt19937\n"
     ]
    }
   ],
   "source": [
    "import os\n",
    "import glob\n",
    "import shutil\n",
    "import pandas as pd\n",
    "import nglview as ngl\n",
    "import pyrosetta as prs\n",
    "prs.init()\n",
    "from pyrosetta import rosetta"
   ]
  },
  {
   "cell_type": "markdown",
   "metadata": {},
   "source": [
    "### Setting up score functions that will be used across parts"
   ]
  },
  {
   "cell_type": "code",
   "execution_count": 2,
   "metadata": {},
   "outputs": [
    {
     "name": "stdout",
     "output_type": "stream",
     "text": [
      "basic.io.database: Database file opened: scoring/score_functions/EnvPairPotential/env_log.txt\n",
      "basic.io.database: Database file opened: scoring/score_functions/EnvPairPotential/cbeta_den.txt\n",
      "basic.io.database: Database file opened: scoring/score_functions/EnvPairPotential/pair_log.txt\n",
      "basic.io.database: Database file opened: scoring/score_functions/EnvPairPotential/cenpack_log.txt\n",
      "basic.io.database: Database file opened: scoring/score_functions/SecondaryStructurePotential/phi.theta.36.HS.resmooth\n",
      "basic.io.database: Database file opened: scoring/score_functions/SecondaryStructurePotential/phi.theta.36.SS.resmooth\n",
      "core.scoring.ScoreFunctionFactory: SCOREFUNCTION: ref2015\n",
      "core.scoring.etable: Starting energy table calculation\n",
      "core.scoring.etable: smooth_etable: changing atr/rep split to bottom of energy well\n",
      "core.scoring.etable: smooth_etable: spline smoothing lj etables (maxdis = 6)\n",
      "core.scoring.etable: smooth_etable: spline smoothing solvation etables (max_dis = 6)\n",
      "core.scoring.etable: Finished calculating energy tables.\n",
      "basic.io.database: Database file opened: scoring/score_functions/hbonds/ref2015_params/HBPoly1D.csv\n",
      "basic.io.database: Database file opened: scoring/score_functions/hbonds/ref2015_params/HBFadeIntervals.csv\n",
      "basic.io.database: Database file opened: scoring/score_functions/hbonds/ref2015_params/HBEval.csv\n",
      "basic.io.database: Database file opened: scoring/score_functions/hbonds/ref2015_params/DonStrength.csv\n",
      "basic.io.database: Database file opened: scoring/score_functions/hbonds/ref2015_params/AccStrength.csv\n",
      "core.chemical.GlobalResidueTypeSet: Finished initializing fa_standard residue type set.  Created 696 residue types\n",
      "core.chemical.GlobalResidueTypeSet: Total time to initialize 0.640214 seconds.\n",
      "basic.io.database: Database file opened: scoring/score_functions/rama/fd/all.ramaProb\n",
      "basic.io.database: Database file opened: scoring/score_functions/rama/fd/prepro.ramaProb\n",
      "basic.io.database: Database file opened: scoring/score_functions/omega/omega_ppdep.all.txt\n",
      "basic.io.database: Database file opened: scoring/score_functions/omega/omega_ppdep.gly.txt\n",
      "basic.io.database: Database file opened: scoring/score_functions/omega/omega_ppdep.pro.txt\n",
      "basic.io.database: Database file opened: scoring/score_functions/omega/omega_ppdep.valile.txt\n",
      "basic.io.database: Database file opened: scoring/score_functions/P_AA_pp/P_AA\n",
      "basic.io.database: Database file opened: scoring/score_functions/P_AA_pp/P_AA_n\n",
      "core.scoring.P_AA: shapovalov_lib::shap_p_aa_pp_smooth_level of 1( aka low_smooth ) got activated.\n",
      "basic.io.database: Database file opened: scoring/score_functions/P_AA_pp/shapovalov/10deg/kappa131/a20.prop\n"
     ]
    }
   ],
   "source": [
    "scorefxn_low = prs.create_score_function('score3')\n",
    "scorefxn_high = prs.get_fa_scorefxn()"
   ]
  },
  {
   "cell_type": "markdown",
   "metadata": {},
   "source": [
    "### Loading the native (solved crystal) structure"
   ]
  },
  {
   "cell_type": "code",
   "execution_count": 3,
   "metadata": {},
   "outputs": [
    {
     "name": "stdout",
     "output_type": "stream",
     "text": [
      "core.import_pose.import_pose: File 'data/1BL0/1BL0_chainA.pdb' automatically determined to be of type PDB\n"
     ]
    }
   ],
   "source": [
    "native_pose = prs.pose_from_pdb('data/1BL0/1BL0_chainA.pdb')"
   ]
  },
  {
   "cell_type": "markdown",
   "metadata": {},
   "source": [
    "We can check the amino acid sequence of the structure with a very simple command."
   ]
  },
  {
   "cell_type": "code",
   "execution_count": 4,
   "metadata": {
    "scrolled": true
   },
   "outputs": [
    {
     "data": {
      "text/plain": [
       "'DAITIHSILDWIEDNLESPLSLEKVSERSGYSKWHLQRMFKKETGHSLGQYIRSRKMTEIAQKLKESNEPILYLAERYGFESQQTLTRTFKNYFDVPPHKYRMTNMQGESRFLHPL'"
      ]
     },
     "execution_count": 4,
     "metadata": {},
     "output_type": "execute_result"
    }
   ],
   "source": [
    "native_pose.sequence()"
   ]
  },
  {
   "cell_type": "markdown",
   "metadata": {},
   "source": [
    "We can also assign the correct secondary structure.\n"
   ]
  },
  {
   "cell_type": "code",
   "execution_count": 5,
   "metadata": {},
   "outputs": [
    {
     "name": "stdout",
     "output_type": "stream",
     "text": [
      "protocols.DsspMover: LHHHHHHHHHHHHLLLLLLLLLHHHHHHLLLLHHHHHHHHHHHHLLLHHHHHHHHHHHHHHHHHHHLLLLHHHHHHHHLLLLHHHHHHHHHHHHLLLHHHHHLLLLLLLLLLLLLL\n"
     ]
    }
   ],
   "source": [
    "DSSP = prs.rosetta.protocols.moves.DsspMover()\n",
    "DSSP.apply(native_pose)    # populates the pose's Pose.secstruct"
   ]
  },
  {
   "cell_type": "markdown",
   "metadata": {},
   "source": [
    "#### Hint: The amino acids are also called residues!\n",
    "\n",
    "Let's view more information about the first residue of the protein."
   ]
  },
  {
   "cell_type": "code",
   "execution_count": 6,
   "metadata": {},
   "outputs": [
    {
     "name": "stdout",
     "output_type": "stream",
     "text": [
      "Residue 1: ASP:NtermProteinFull (ASP, D):\n",
      "Base: ASP\n",
      " Properties: POLYMER PROTEIN CANONICAL_AA LOWER_TERMINUS SC_ORBITALS POLAR CHARGED NEGATIVE_CHARGE METALBINDING ALPHA_AA L_AA\n",
      " Variant types: LOWER_TERMINUS_VARIANT\n",
      " Main-chain atoms:  N    CA   C  \n",
      " Backbone atoms:    N    CA   C    O   1H   2H   3H    HA \n",
      " Side-chain atoms:  CB   CG   OD1  OD2 1HB  2HB \n",
      "Atom Coordinates:\n",
      "   N  : 0.229, 36.012, 74.172\n",
      "   CA : 0.041, 35.606, 75.594\n",
      "   C  : -0.096, 36.849, 76.498\n",
      "   O  : -0.951, 36.895, 77.382\n",
      "   CB : 1.225, 34.718, 76.092\n",
      "   CG : 2.159, 34.156, 74.999\n",
      "   OD1: 1.688, 33.361, 74.151\n",
      "   OD2: 3.378, 34.497, 75.007\n",
      "  1H  : 1.056, 35.74, 73.68\n",
      "  2H  : -0.43, 35.723, 73.478\n",
      "  3H  : 0.251, 36.981, 73.928\n",
      "   HA : -0.884, 35.037, 75.696\n",
      "  1HB : 1.839, 35.199, 76.854\n",
      "  2HB : 0.67, 33.892, 76.539\n",
      "Mirrored relative to coordinates in ResidueType: FALSE\n",
      "\n"
     ]
    }
   ],
   "source": [
    "print(native_pose.residue(1))"
   ]
  },
  {
   "cell_type": "code",
   "execution_count": 7,
   "metadata": {},
   "outputs": [],
   "source": [
    "pose = prs.pose_from_sequence(native_pose.sequence())\n",
    "test_pose = prs.Pose()\n",
    "test_pose.assign(pose)\n",
    "test_pose.pdb_info().name('Linearized Pose')"
   ]
  },
  {
   "cell_type": "code",
   "execution_count": null,
   "metadata": {},
   "outputs": [
    {
     "data": {
      "application/vnd.jupyter.widget-view+json": {
       "model_id": "1b541ec9acfa477ebe771d705133bfa4",
       "version_major": 2,
       "version_minor": 0
      },
      "text/plain": [
       "NGLWidget()"
      ]
     },
     "metadata": {},
     "output_type": "display_data"
    }
   ],
   "source": [
    "view = ngl.show_rosetta(test_pose)\n",
    "view.add_ball_and_stick()\n",
    "view  # zoom in to see the atoms!"
   ]
  },
  {
   "cell_type": "markdown",
   "metadata": {},
   "source": [
    "## Defining movers to switch from full-atom to centroid representation"
   ]
  },
  {
   "cell_type": "markdown",
   "metadata": {},
   "source": [
    "We will be using the centroid representation to perform rough and fast scoring in the initial stages of the folding algorithm. Later on, we will switch to the full atom represenation to do accurate minimization and get the final structures."
   ]
  },
  {
   "cell_type": "code",
   "execution_count": null,
   "metadata": {},
   "outputs": [],
   "source": [
    "to_centroid = prs.SwitchResidueTypeSetMover('centroid')\n",
    "to_full_atom = prs.SwitchResidueTypeSetMover('fa_standard')"
   ]
  },
  {
   "cell_type": "code",
   "execution_count": null,
   "metadata": {},
   "outputs": [
    {
     "name": "stdout",
     "output_type": "stream",
     "text": [
      "core.util.switchresiduetypeset: [ WARNING ] When switching to a fa_standard ResidueTypeSet:  Pose already contains fa_standard ResidueTypes.\n",
      "basic.io.database: Database file opened: scoring/score_functions/elec_cp_reps.dat\n",
      "core.scoring.elec.util: Read 40 countpair representative atoms\n",
      "core.pack.dunbrack.RotamerLibrary: shapovalov_lib_fixes_enable option is true.\n",
      "core.pack.dunbrack.RotamerLibrary: shapovalov_lib::shap_dun10_smooth_level of 1( aka lowest_smooth ) got activated.\n",
      "core.pack.dunbrack.RotamerLibrary: Binary rotamer library selected: /anaconda3/envs/pyrosetta/lib/python3.6/site-packages/pyrosetta-2019.10+release.fd1bdffb01b-py3.6-macosx-10.7-x86_64.egg/pyrosetta/database/rotamer/shapovalov/StpDwn_0-0-0/Dunbrack10.lib.bin\n",
      "core.pack.dunbrack.RotamerLibrary: Using Dunbrack library binary file '/anaconda3/envs/pyrosetta/lib/python3.6/site-packages/pyrosetta-2019.10+release.fd1bdffb01b-py3.6-macosx-10.7-x86_64.egg/pyrosetta/database/rotamer/shapovalov/StpDwn_0-0-0/Dunbrack10.lib.bin'.\n",
      "core.pack.dunbrack.RotamerLibrary: Dunbrack 2010 library took 0.263621 seconds to load from binary\n",
      "Full Atom Score: 46617.13925908482\n",
      "core.chemical.GlobalResidueTypeSet: Finished initializing centroid residue type set.  Created 62 residue types\n",
      "core.chemical.GlobalResidueTypeSet: Total time to initialize 0.023365 seconds.\n",
      "Centroid Score: 454.12286307835507\n"
     ]
    }
   ],
   "source": [
    "to_full_atom.apply(test_pose)\n",
    "print('Full Atom Score:', scorefxn_high(test_pose))\n",
    "to_centroid.apply(test_pose)\n",
    "print('Centroid Score:', scorefxn_low(test_pose))"
   ]
  },
  {
   "cell_type": "markdown",
   "metadata": {},
   "source": [
    "## Q: Visualize the centroid-only structure and see the difference with the full atom that we visualized above? Print again the information for the first residue and compare."
   ]
  },
  {
   "cell_type": "code",
   "execution_count": null,
   "metadata": {},
   "outputs": [],
   "source": [
    "# here write the code to visualize the centroid only structure and print the information of the 1st residue"
   ]
  },
  {
   "cell_type": "markdown",
   "metadata": {},
   "source": [
    "## Setting up the folding algorithm"
   ]
  },
  {
   "cell_type": "code",
   "execution_count": null,
   "metadata": {},
   "outputs": [],
   "source": [
    "# Loading the files with the pre-computed fragmets\n",
    "long_frag_filename = 'data/1BL0/9_fragments.txt'\n",
    "long_frag_length = 9\n",
    "short_frag_filename = 'data/1BL0/3_fragments.txt'\n",
    "short_frag_length = 3\n",
    "\n",
    "# Defining parameters of the folding algorithm\n",
    "long_inserts=5  # How many 9-fragment pieces to insest during the search\n",
    "short_inserts=10 # How many 3-fragment pieces to insest during the search\n",
    "\n",
    "kT = 3.0 # Simulated Annealing temperature\n",
    "cycles = 1000 # How many cycles of Monte Carlo search to run\n",
    "jobs = 50 # How many trajectories in parallel to compute.\n",
    "job_output = 'outputs/1BL0/decoy' # The prefix of the filenames to store the results"
   ]
  },
  {
   "cell_type": "markdown",
   "metadata": {},
   "source": [
    "#### Loading the fragmets"
   ]
  },
  {
   "cell_type": "code",
   "execution_count": null,
   "metadata": {},
   "outputs": [
    {
     "name": "stdout",
     "output_type": "stream",
     "text": [
      "core.fragments.ConstantLengthFragSet: finished reading top 200 9mer fragments from file data/1BL0/9_fragments.txt\n",
      "core.fragments.ConstantLengthFragSet: finished reading top 200 3mer fragments from file data/1BL0/3_fragments.txt\n"
     ]
    }
   ],
   "source": [
    "movemap = prs.MoveMap()\n",
    "movemap.set_bb(True)\n",
    "\n",
    "fragset_long = rosetta.core.fragment.ConstantLengthFragSet(long_frag_length, long_frag_filename)\n",
    "long_frag_mover = rosetta.protocols.simple_moves.ClassicFragmentMover(fragset_long, movemap)\n",
    "\n",
    "fragset_short = rosetta.core.fragment.ConstantLengthFragSet(short_frag_length, short_frag_filename)\n",
    "short_frag_mover = rosetta.protocols.simple_moves.ClassicFragmentMover(fragset_short, movemap)\n",
    "\n",
    "insert_long_frag = prs.RepeatMover(long_frag_mover, long_inserts)\n",
    "insert_short_frag = prs.RepeatMover(short_frag_mover, short_inserts)"
   ]
  },
  {
   "cell_type": "markdown",
   "metadata": {},
   "source": [
    "## Q: How many 9-mer and 3-mer fragmets do we have in our database?"
   ]
  },
  {
   "cell_type": "markdown",
   "metadata": {},
   "source": [
    "#### Setting up the MonteCarlo search"
   ]
  },
  {
   "cell_type": "code",
   "execution_count": null,
   "metadata": {},
   "outputs": [],
   "source": [
    "# Making sure the structure is in centroid-only mode for the search\n",
    "test_pose.assign(pose)\n",
    "to_centroid.apply(test_pose)"
   ]
  },
  {
   "cell_type": "code",
   "execution_count": null,
   "metadata": {},
   "outputs": [],
   "source": [
    "# Defining what sequence of actions to do between each scoring step\n",
    "folding_mover = prs.SequenceMover()\n",
    "folding_mover.add_mover(insert_long_frag)\n",
    "folding_mover.add_mover(insert_short_frag)"
   ]
  },
  {
   "cell_type": "code",
   "execution_count": null,
   "metadata": {},
   "outputs": [],
   "source": [
    "mc = prs.MonteCarlo(test_pose, scorefxn_low, kT)\n",
    "trial = prs.TrialMover(folding_mover, mc)"
   ]
  },
  {
   "cell_type": "code",
   "execution_count": null,
   "metadata": {},
   "outputs": [],
   "source": [
    "# Setting up how many cycles of search to do in each trajectory\n",
    "folding = prs.RepeatMover(trial, cycles)"
   ]
  },
  {
   "cell_type": "markdown",
   "metadata": {},
   "source": [
    "#### Setting up the relax mover for the final stage"
   ]
  },
  {
   "cell_type": "code",
   "execution_count": null,
   "metadata": {},
   "outputs": [
    {
     "name": "stdout",
     "output_type": "stream",
     "text": [
      "protocols.relax.FastRelax: Looking for default.txt\n",
      "protocols.relax.RelaxScriptManager: ================== Reading script file: /anaconda3/envs/pyrosetta/lib/python3.6/site-packages/pyrosetta-2019.10+release.fd1bdffb01b-py3.6-macosx-10.7-x86_64.egg/pyrosetta/database/sampling/relax_scripts/default.txt ==================\n",
      "protocols.relax.RelaxScriptManager: repeat %%nrepeats%%\n",
      "protocols.relax.RelaxScriptManager: ramp_repack_min 0.02  0.01     1.0\n",
      "protocols.relax.RelaxScriptManager: ramp_repack_min 0.250 0.01     0.5\n",
      "protocols.relax.RelaxScriptManager: ramp_repack_min 0.550 0.01     0.0\n",
      "protocols.relax.RelaxScriptManager: ramp_repack_min 1     0.00001  0.0\n",
      "protocols.relax.RelaxScriptManager: accept_to_best\n",
      "protocols.relax.RelaxScriptManager: endrepeat\n"
     ]
    }
   ],
   "source": [
    "fast_relax_mover = prs.rosetta.protocols.relax.FastRelax(scorefxn_high)"
   ]
  },
  {
   "cell_type": "markdown",
   "metadata": {},
   "source": [
    "### Running the folding algorithm!"
   ]
  },
  {
   "cell_type": "code",
   "execution_count": null,
   "metadata": {},
   "outputs": [],
   "source": [
    "scores = [0] * (jobs + 1)\n",
    "scores[0] = scorefxn_low(test_pose)"
   ]
  },
  {
   "cell_type": "code",
   "execution_count": null,
   "metadata": {},
   "outputs": [
    {
     "name": "stdout",
     "output_type": "stream",
     "text": [
      "Working on decoy: outputs/1BL0/decoy_9.pdb\n"
     ]
    }
   ],
   "source": [
    "if os.path.isdir(os.path.dirname(job_output)):\n",
    "    shutil.rmtree(os.path.dirname(job_output), ignore_errors=True)\n",
    "os.makedirs(os.path.dirname(job_output))\n",
    "jd = prs.PyJobDistributor(job_output, nstruct=jobs, scorefxn=scorefxn_high)"
   ]
  },
  {
   "cell_type": "code",
   "execution_count": null,
   "metadata": {
    "scrolled": true
   },
   "outputs": [
    {
     "name": "stdout",
     "output_type": "stream",
     "text": [
      "protocols.relax.FastRelax: CMD: repeat  79610.7  0  0  0.55\n",
      "core.pack.task: Packer task: initialize from command line()\n",
      "core.pack.pack_rotamers: built 2856 rotamers at 116 positions.\n",
      "core.pack.interaction_graph.interaction_graph_factory: Instantiating DensePDInteractionGraph\n",
      "protocols.relax.FastRelax: CMD: ramp_repack_min  -284.902  6.42291  6.42291  0.011\n",
      "core.pack.task: Packer task: initialize from command line()\n",
      "core.pack.pack_rotamers: built 2819 rotamers at 116 positions.\n",
      "core.pack.interaction_graph.interaction_graph_factory: Instantiating DensePDInteractionGraph\n",
      "protocols.relax.FastRelax: CMD: ramp_repack_min  -227.261  6.28921  6.28921  0.1375\n",
      "core.pack.task: Packer task: initialize from command line()\n",
      "core.pack.pack_rotamers: built 2489 rotamers at 116 positions.\n",
      "core.pack.interaction_graph.interaction_graph_factory: Instantiating DensePDInteractionGraph\n",
      "protocols.relax.FastRelax: CMD: ramp_repack_min  -196.46  6.21433  6.21433  0.3025\n",
      "core.pack.task: Packer task: initialize from command line()\n",
      "core.pack.pack_rotamers: built 2330 rotamers at 116 positions.\n",
      "core.pack.interaction_graph.interaction_graph_factory: Instantiating DensePDInteractionGraph\n",
      "protocols.relax.FastRelax: CMD: ramp_repack_min  -189.73  6.48405  6.48405  0.55\n",
      "protocols.relax.FastRelax: MRP: 0  -189.73  -189.73  6.48405  6.48405\n",
      "protocols.relax.FastRelax: CMD: accept_to_best  -189.73  6.48405  6.48405  0.55\n",
      "protocols.relax.FastRelax: CMD: endrepeat  -189.73  6.48405  6.48405  0.55\n",
      "core.pack.task: Packer task: initialize from command line()\n",
      "core.pack.pack_rotamers: built 2469 rotamers at 116 positions.\n",
      "core.pack.interaction_graph.interaction_graph_factory: Instantiating DensePDInteractionGraph\n",
      "protocols.relax.FastRelax: CMD: ramp_repack_min  -354.692  7.39998  7.39998  0.011\n",
      "core.pack.task: Packer task: initialize from command line()\n",
      "core.pack.pack_rotamers: built 3116 rotamers at 116 positions.\n",
      "core.pack.interaction_graph.interaction_graph_factory: Instantiating DensePDInteractionGraph\n",
      "protocols.relax.FastRelax: CMD: ramp_repack_min  -246.567  5.79732  5.79732  0.1375\n",
      "core.pack.task: Packer task: initialize from command line()\n",
      "core.pack.pack_rotamers: built 2374 rotamers at 116 positions.\n",
      "core.pack.interaction_graph.interaction_graph_factory: Instantiating DensePDInteractionGraph\n",
      "protocols.relax.FastRelax: CMD: ramp_repack_min  -217.612  6.22007  6.22007  0.3025\n",
      "core.pack.task: Packer task: initialize from command line()\n",
      "core.pack.pack_rotamers: built 2383 rotamers at 116 positions.\n",
      "core.pack.interaction_graph.interaction_graph_factory: Instantiating DensePDInteractionGraph\n",
      "protocols.relax.FastRelax: CMD: ramp_repack_min  -144.118  7.1798  7.1798  0.55\n",
      "protocols.relax.FastRelax: MRP: 1  -144.118  -189.73  6.48405  6.48405\n",
      "protocols.relax.FastRelax: CMD: accept_to_best  -144.118  7.1798  7.1798  0.55\n",
      "protocols.relax.FastRelax: CMD: endrepeat  -144.118  7.1798  7.1798  0.55\n",
      "core.pack.task: Packer task: initialize from command line()\n",
      "core.pack.pack_rotamers: built 2781 rotamers at 116 positions.\n",
      "core.pack.interaction_graph.interaction_graph_factory: Instantiating DensePDInteractionGraph\n",
      "protocols.relax.FastRelax: CMD: ramp_repack_min  -378.546  7.6875  7.6875  0.011\n",
      "core.pack.task: Packer task: initialize from command line()\n",
      "core.pack.pack_rotamers: built 2818 rotamers at 116 positions.\n",
      "core.pack.interaction_graph.interaction_graph_factory: Instantiating DensePDInteractionGraph\n",
      "protocols.relax.FastRelax: CMD: ramp_repack_min  -273.625  7.44837  7.44837  0.1375\n",
      "core.pack.task: Packer task: initialize from command line()\n",
      "core.pack.pack_rotamers: built 2597 rotamers at 116 positions.\n",
      "core.pack.interaction_graph.interaction_graph_factory: Instantiating DensePDInteractionGraph\n",
      "protocols.relax.FastRelax: CMD: ramp_repack_min  -239.04  7.34136  7.34136  0.3025\n",
      "core.pack.task: Packer task: initialize from command line()\n",
      "core.pack.pack_rotamers: built 2483 rotamers at 116 positions.\n",
      "core.pack.interaction_graph.interaction_graph_factory: Instantiating DensePDInteractionGraph\n",
      "protocols.relax.FastRelax: CMD: ramp_repack_min  -213.466  7.33231  7.33231  0.55\n",
      "protocols.relax.FastRelax: MRP: 2  -213.466  -213.466  7.33231  7.33231\n",
      "protocols.relax.FastRelax: CMD: accept_to_best  -213.466  7.33231  7.33231  0.55\n",
      "protocols.relax.FastRelax: CMD: endrepeat  -213.466  7.33231  7.33231  0.55\n",
      "core.pack.task: Packer task: initialize from command line()\n",
      "core.pack.pack_rotamers: built 2884 rotamers at 116 positions.\n",
      "core.pack.interaction_graph.interaction_graph_factory: Instantiating DensePDInteractionGraph\n",
      "protocols.relax.FastRelax: CMD: ramp_repack_min  -389.546  7.79461  7.79461  0.011\n",
      "core.pack.task: Packer task: initialize from command line()\n",
      "core.pack.pack_rotamers: built 2963 rotamers at 116 positions.\n",
      "core.pack.interaction_graph.interaction_graph_factory: Instantiating DensePDInteractionGraph\n",
      "protocols.relax.FastRelax: CMD: ramp_repack_min  -269.551  7.48075  7.48075  0.1375\n",
      "core.pack.task: Packer task: initialize from command line()\n",
      "core.pack.pack_rotamers: built 2588 rotamers at 116 positions.\n",
      "core.pack.interaction_graph.interaction_graph_factory: Instantiating DensePDInteractionGraph\n",
      "protocols.relax.FastRelax: CMD: ramp_repack_min  -230.253  7.39977  7.39977  0.3025\n",
      "core.pack.task: Packer task: initialize from command line()\n",
      "core.pack.pack_rotamers: built 2495 rotamers at 116 positions.\n",
      "core.pack.interaction_graph.interaction_graph_factory: Instantiating DensePDInteractionGraph\n",
      "protocols.relax.FastRelax: CMD: ramp_repack_min  -211.602  7.61216  7.61216  0.55\n",
      "protocols.relax.FastRelax: MRP: 3  -211.602  -213.466  7.33231  7.33231\n",
      "protocols.relax.FastRelax: CMD: accept_to_best  -211.602  7.61216  7.61216  0.55\n",
      "protocols.relax.FastRelax: CMD: endrepeat  -211.602  7.61216  7.61216  0.55\n",
      "core.pack.task: Packer task: initialize from command line()\n",
      "core.pack.pack_rotamers: built 2916 rotamers at 116 positions.\n",
      "core.pack.interaction_graph.interaction_graph_factory: Instantiating DensePDInteractionGraph\n",
      "protocols.relax.FastRelax: CMD: ramp_repack_min  -409.704  8.06881  8.06881  0.011\n",
      "core.pack.task: Packer task: initialize from command line()\n",
      "core.pack.pack_rotamers: built 2955 rotamers at 116 positions.\n",
      "core.pack.interaction_graph.interaction_graph_factory: Instantiating DensePDInteractionGraph\n",
      "protocols.relax.FastRelax: CMD: ramp_repack_min  -276.196  7.83395  7.83395  0.1375\n",
      "core.pack.task: Packer task: initialize from command line()\n",
      "core.pack.pack_rotamers: built 2681 rotamers at 116 positions.\n",
      "core.pack.interaction_graph.interaction_graph_factory: Instantiating DensePDInteractionGraph\n",
      "protocols.relax.FastRelax: CMD: ramp_repack_min  -242.978  7.69267  7.69267  0.3025\n",
      "core.pack.task: Packer task: initialize from command line()\n",
      "core.pack.pack_rotamers: built 2598 rotamers at 116 positions.\n",
      "core.pack.interaction_graph.interaction_graph_factory: Instantiating DensePDInteractionGraph\n",
      "protocols.relax.FastRelax: CMD: ramp_repack_min  -219.04  7.85032  7.85032  0.55\n",
      "protocols.relax.FastRelax: MRP: 4  -219.04  -219.04  7.85032  7.85032\n",
      "protocols.relax.FastRelax: CMD: accept_to_best  -219.04  7.85032  7.85032  0.55\n",
      "protocols.relax.FastRelax: CMD: endrepeat  -219.04  7.85032  7.85032  0.55\n",
      "protocols::checkpoint: Deleting checkpoints of FastRelax\n",
      "Working on decoy: outputs/1BL0/decoy_28.pdb\n",
      "protocols.relax.FastRelax: CMD: repeat  77018.9  15.2908  0  0.55\n",
      "core.pack.task: Packer task: initialize from command line()\n",
      "core.pack.pack_rotamers: built 3318 rotamers at 116 positions.\n",
      "core.pack.interaction_graph.interaction_graph_factory: Instantiating DensePDInteractionGraph\n",
      "protocols.relax.FastRelax: CMD: ramp_repack_min  -271.248  15.0717  1.64353  0.011\n",
      "core.pack.task: Packer task: initialize from command line()\n",
      "core.pack.pack_rotamers: built 3200 rotamers at 116 positions.\n",
      "core.pack.interaction_graph.interaction_graph_factory: Instantiating DensePDInteractionGraph\n",
      "protocols.relax.FastRelax: CMD: ramp_repack_min  -239.673  15.1321  2.96646  0.1375\n",
      "core.pack.task: Packer task: initialize from command line()\n",
      "core.pack.pack_rotamers: built 3151 rotamers at 116 positions.\n",
      "core.pack.interaction_graph.interaction_graph_factory: Instantiating DensePDInteractionGraph\n",
      "protocols.relax.FastRelax: CMD: ramp_repack_min  -207.699  15.1199  2.76046  0.3025\n"
     ]
    },
    {
     "name": "stdout",
     "output_type": "stream",
     "text": [
      "core.pack.task: Packer task: initialize from command line()\n",
      "core.pack.pack_rotamers: built 3043 rotamers at 116 positions.\n",
      "core.pack.interaction_graph.interaction_graph_factory: Instantiating DensePDInteractionGraph\n",
      "protocols.relax.FastRelax: CMD: ramp_repack_min  -216.044  15.2219  2.84755  0.55\n",
      "protocols.relax.FastRelax: MRP: 0  -216.044  -216.044  15.2219  2.84755\n",
      "protocols.relax.FastRelax: CMD: accept_to_best  -216.044  15.2219  2.84755  0.55\n",
      "protocols.relax.FastRelax: CMD: endrepeat  -216.044  15.2219  2.84755  0.55\n",
      "core.pack.task: Packer task: initialize from command line()\n",
      "core.pack.pack_rotamers: built 3750 rotamers at 116 positions.\n",
      "core.pack.interaction_graph.interaction_graph_factory: Instantiating DensePDInteractionGraph\n",
      "protocols.relax.FastRelax: CMD: ramp_repack_min  -396.721  15.4613  3.29333  0.011\n",
      "core.pack.task: Packer task: initialize from command line()\n",
      "core.pack.pack_rotamers: built 3430 rotamers at 116 positions.\n",
      "core.pack.interaction_graph.interaction_graph_factory: Instantiating DensePDInteractionGraph\n",
      "protocols.relax.FastRelax: CMD: ramp_repack_min  -260.931  15.4387  2.85999  0.1375\n",
      "core.pack.task: Packer task: initialize from command line()\n",
      "core.pack.pack_rotamers: built 3405 rotamers at 116 positions.\n"
     ]
    }
   ],
   "source": [
    "counter = 0 \n",
    "while not jd.job_complete:\n",
    "    # a. set necessary variables for the new trajectory\n",
    "    # -reload the starting pose\n",
    "    test_pose.assign(pose)\n",
    "    to_centroid.apply(test_pose)\n",
    "    # -change the pose's PDBInfo.name, for the PyMOL_Observer\n",
    "    counter += 1\n",
    "    test_pose.pdb_info().name(job_output + '_' + str(counter))\n",
    "    # -reset the MonteCarlo object (sets lowest_score to that of test_pose)\n",
    "    mc.reset(test_pose)\n",
    "\n",
    "    #### if you create a custom protocol, you may have additional\n",
    "    ####    variables to reset, such as kT\n",
    "\n",
    "    #### if you create a custom protocol, this section will most likely\n",
    "    ####    change, many protocols exist as single Movers or can be\n",
    "    ####    chained together in a sequence (see above) so you need\n",
    "    ####    only apply the final Mover\n",
    "    # b. apply the refinement protocol\n",
    "    folding.apply(test_pose)\n",
    "\n",
    "    ####\n",
    "    # c. export the lowest scoring decoy structure for this trajectory\n",
    "    # -recover the lowest scoring decoy structure\n",
    "    mc.recover_low(test_pose)\n",
    "    # -store the final score for this trajectory\n",
    "    # -convert the decoy to fullatom\n",
    "    # the sidechain conformations will all be default,\n",
    "    #    normally, the decoys would NOT be converted to fullatom before\n",
    "    #    writing them to PDB (since a large number of trajectories would\n",
    "    #    be considered and their fullatom score are unnecessary)\n",
    "    # here the fullatom mode is reproduced to make the output easier to\n",
    "    #    understand and manipulate, PyRosetta can load in PDB files of\n",
    "    #    centroid structures, however you must convert to fullatom for\n",
    "    #    nearly any other application\n",
    "    to_full_atom.apply(test_pose)\n",
    "    fast_relax_mover.apply(test_pose)\n",
    "    scores[counter] = scorefxn_high(test_pose)\n",
    "    # -output the fullatom decoy structure into a PDB file\n",
    "    jd.output_decoy(test_pose)\n",
    "    # -export the final structure to PyMOL\n",
    "    test_pose.pdb_info().name(job_output + '_' + str(counter) + '_fa')"
   ]
  },
  {
   "cell_type": "markdown",
   "metadata": {},
   "source": [
    "### Evaluating the folding results by getting the energies and RMSDs (distnace from the native pose) of each one of the predicted structures"
   ]
  },
  {
   "cell_type": "code",
   "execution_count": null,
   "metadata": {},
   "outputs": [],
   "source": [
    "decoy_poses = [prs.pose_from_pdb(f) for f in glob.glob(job_output + '*.pdb')]"
   ]
  },
  {
   "cell_type": "code",
   "execution_count": null,
   "metadata": {},
   "outputs": [],
   "source": [
    "def align_and_get_rmsds(native_pose, decoy_poses):\n",
    "    prs.rosetta.core.pose.full_model_info.make_sure_full_model_info_is_setup(native_pose)\n",
    "    rmsds = []\n",
    "    for p in decoy_poses:\n",
    "        prs.rosetta.core.pose.full_model_info.make_sure_full_model_info_is_setup(p)\n",
    "        rmsds += [prs.rosetta.protocols.stepwise.modeler.align.superimpose_with_stepwise_aligner(native_pose, p)]\n",
    "    return rmsds"
   ]
  },
  {
   "cell_type": "code",
   "execution_count": null,
   "metadata": {},
   "outputs": [],
   "source": [
    "rmsds = align_and_get_rmsds(native_pose, decoy_poses)"
   ]
  },
  {
   "cell_type": "code",
   "execution_count": null,
   "metadata": {},
   "outputs": [],
   "source": [
    "rmsd_data = []\n",
    "for i in range(1, len(decoy_poses)):  # print out the job scores\n",
    "    rmsd_data.append({'structure': decoy_poses[i].pdb_info().name(), \n",
    "                      'rmsd': rmsds[i],\n",
    "                      'energy_score': scores[i]})"
   ]
  },
  {
   "cell_type": "code",
   "execution_count": null,
   "metadata": {},
   "outputs": [],
   "source": [
    "rmsd_df = pd.DataFrame(rmsd_data)"
   ]
  },
  {
   "cell_type": "code",
   "execution_count": null,
   "metadata": {},
   "outputs": [],
   "source": [
    "rmsd_df.sort_values('rmsd')"
   ]
  },
  {
   "cell_type": "markdown",
   "metadata": {},
   "source": [
    "### Q: Plot the energy_score VS rmsd. Are the lowest energy structures the closest to the native one?"
   ]
  }
 ],
 "metadata": {
  "kernelspec": {
   "display_name": "Python 3",
   "language": "python",
   "name": "python3"
  },
  "language_info": {
   "codemirror_mode": {
    "name": "ipython",
    "version": 3
   },
   "file_extension": ".py",
   "mimetype": "text/x-python",
   "name": "python",
   "nbconvert_exporter": "python",
   "pygments_lexer": "ipython3",
   "version": "3.6.8"
  }
 },
 "nbformat": 4,
 "nbformat_minor": 1
}

{
 "cells": [
  {
   "cell_type": "markdown",
   "metadata": {},
   "source": [
    "# Protein Folding with Pyrosetta"
   ]
  },
  {
   "cell_type": "markdown",
   "metadata": {},
   "source": [
    "In this tutorial, we will fold a protein structure using Rosetta, and compare the folded structure with the solved crystal structure of the protein."
   ]
  },
  {
   "cell_type": "markdown",
   "metadata": {},
   "source": [
    "### Importing relevant libraries"
   ]
  },
  {
   "cell_type": "markdown",
   "metadata": {},
   "source": [
    "We begin by importing the relevant libraries from Python. If running the following cell produces any errors or warnings, make sure you have followed all the steps in the \"Setting up Pyrosetta\" section."
   ]
  },
  {
   "cell_type": "code",
   "execution_count": 1,
   "metadata": {},
   "outputs": [
    {
     "name": "stdout",
     "output_type": "stream",
     "text": [
      "core.init: Checking for fconfig files in pwd and ./rosetta/flags\n",
      "core.init: Rosetta version: PyRosetta4.Release.python36.mac r213 2019.10+release.fd1bdffb01b fd1bdffb01b7866da84942b9bf1b06e96270656e http://www.pyrosetta.org 2019-03-05T15:28:05\n",
      "core.init: command: PyRosetta -ex1 -ex2aro -database /anaconda3/envs/pyrosetta/lib/python3.6/site-packages/pyrosetta-2019.10+release.fd1bdffb01b-py3.6-macosx-10.7-x86_64.egg/pyrosetta/database\n",
      "core.init: 'RNG device' seed mode, using '/dev/urandom', seed=1563846545 seed_offset=0 real_seed=1563846545\n",
      "core.init.random: RandomGenerator:init: Normal mode, seed=1563846545 RG_type=mt19937\n"
     ]
    }
   ],
   "source": [
    "import os\n",
    "import glob\n",
    "import shutil\n",
    "import pandas as pd\n",
    "import nglview as ngl\n",
    "import pyrosetta as prs\n",
    "prs.init()\n",
    "from pyrosetta import rosetta"
   ]
  },
  {
   "cell_type": "markdown",
   "metadata": {},
   "source": [
    "### Setting up score functions that will be used across parts"
   ]
  },
  {
   "cell_type": "code",
   "execution_count": 2,
   "metadata": {},
   "outputs": [
    {
     "name": "stdout",
     "output_type": "stream",
     "text": [
      "basic.io.database: Database file opened: scoring/score_functions/EnvPairPotential/env_log.txt\n",
      "basic.io.database: Database file opened: scoring/score_functions/EnvPairPotential/cbeta_den.txt\n",
      "basic.io.database: Database file opened: scoring/score_functions/EnvPairPotential/pair_log.txt\n",
      "basic.io.database: Database file opened: scoring/score_functions/EnvPairPotential/cenpack_log.txt\n",
      "basic.io.database: Database file opened: scoring/score_functions/SecondaryStructurePotential/phi.theta.36.HS.resmooth\n",
      "basic.io.database: Database file opened: scoring/score_functions/SecondaryStructurePotential/phi.theta.36.SS.resmooth\n",
      "core.scoring.ScoreFunctionFactory: SCOREFUNCTION: ref2015\n",
      "core.scoring.etable: Starting energy table calculation\n",
      "core.scoring.etable: smooth_etable: changing atr/rep split to bottom of energy well\n",
      "core.scoring.etable: smooth_etable: spline smoothing lj etables (maxdis = 6)\n",
      "core.scoring.etable: smooth_etable: spline smoothing solvation etables (max_dis = 6)\n",
      "core.scoring.etable: Finished calculating energy tables.\n",
      "basic.io.database: Database file opened: scoring/score_functions/hbonds/ref2015_params/HBPoly1D.csv\n",
      "basic.io.database: Database file opened: scoring/score_functions/hbonds/ref2015_params/HBFadeIntervals.csv\n",
      "basic.io.database: Database file opened: scoring/score_functions/hbonds/ref2015_params/HBEval.csv\n",
      "basic.io.database: Database file opened: scoring/score_functions/hbonds/ref2015_params/DonStrength.csv\n",
      "basic.io.database: Database file opened: scoring/score_functions/hbonds/ref2015_params/AccStrength.csv\n",
      "core.chemical.GlobalResidueTypeSet: Finished initializing fa_standard residue type set.  Created 696 residue types\n",
      "core.chemical.GlobalResidueTypeSet: Total time to initialize 0.652145 seconds.\n",
      "basic.io.database: Database file opened: scoring/score_functions/rama/fd/all.ramaProb\n",
      "basic.io.database: Database file opened: scoring/score_functions/rama/fd/prepro.ramaProb\n",
      "basic.io.database: Database file opened: scoring/score_functions/omega/omega_ppdep.all.txt\n",
      "basic.io.database: Database file opened: scoring/score_functions/omega/omega_ppdep.gly.txt\n",
      "basic.io.database: Database file opened: scoring/score_functions/omega/omega_ppdep.pro.txt\n",
      "basic.io.database: Database file opened: scoring/score_functions/omega/omega_ppdep.valile.txt\n",
      "basic.io.database: Database file opened: scoring/score_functions/P_AA_pp/P_AA\n",
      "basic.io.database: Database file opened: scoring/score_functions/P_AA_pp/P_AA_n\n",
      "core.scoring.P_AA: shapovalov_lib::shap_p_aa_pp_smooth_level of 1( aka low_smooth ) got activated.\n",
      "basic.io.database: Database file opened: scoring/score_functions/P_AA_pp/shapovalov/10deg/kappa131/a20.prop\n"
     ]
    }
   ],
   "source": [
    "scorefxn_low = prs.create_score_function('score3')\n",
    "scorefxn_high = prs.get_fa_scorefxn()"
   ]
  },
  {
   "cell_type": "markdown",
   "metadata": {},
   "source": [
    "### Loading the native (solved crystal) structure"
   ]
  },
  {
   "cell_type": "code",
   "execution_count": 3,
   "metadata": {},
   "outputs": [
    {
     "name": "stdout",
     "output_type": "stream",
     "text": [
      "core.import_pose.import_pose: File 'test_in.pdb' automatically determined to be of type PDB\n"
     ]
    }
   ],
   "source": [
    "native_pose = prs.pose_from_pdb('test_in.pdb')"
   ]
  },
  {
   "cell_type": "code",
   "execution_count": 4,
   "metadata": {},
   "outputs": [
    {
     "data": {
      "text/plain": [
       "'DAITIHSILDWIEDNLESPLSLEKVSERSGYSKWHLQRMFKKETGHSLGQYIRSRKMTEIAQKLKESNEPILYLAERYGFESQQTLTRTFKNYFDVPPHKYRMTNMQGESRFLHPL'"
      ]
     },
     "execution_count": 4,
     "metadata": {},
     "output_type": "execute_result"
    }
   ],
   "source": [
    "native_pose.sequence()"
   ]
  },
  {
   "cell_type": "code",
   "execution_count": 4,
   "metadata": {},
   "outputs": [],
   "source": [
    "view = ngl.show_rosetta(native_pose)\n",
    "view.update_cartoon(color='sstruct', component=0)"
   ]
  },
  {
   "cell_type": "code",
   "execution_count": 5,
   "metadata": {},
   "outputs": [
    {
     "data": {
      "text/plain": [
       "NGLWidget()"
      ]
     },
     "metadata": {},
     "output_type": "display_data"
    }
   ],
   "source": [
    "view"
   ]
  },
  {
   "cell_type": "code",
   "execution_count": 6,
   "metadata": {},
   "outputs": [
    {
     "name": "stdout",
     "output_type": "stream",
     "text": [
      "Residue 1: ASP:NtermProteinFull (ASP, D):\n",
      "Base: ASP\n",
      " Properties: POLYMER PROTEIN CANONICAL_AA LOWER_TERMINUS SC_ORBITALS POLAR CHARGED NEGATIVE_CHARGE METALBINDING ALPHA_AA L_AA\n",
      " Variant types: LOWER_TERMINUS_VARIANT\n",
      " Main-chain atoms:  N    CA   C  \n",
      " Backbone atoms:    N    CA   C    O   1H   2H   3H    HA \n",
      " Side-chain atoms:  CB   CG   OD1  OD2 1HB  2HB \n",
      "Atom Coordinates:\n",
      "   N  : 0.229, 36.012, 74.172\n",
      "   CA : 0.041, 35.606, 75.594\n",
      "   C  : -0.096, 36.849, 76.498\n",
      "   O  : -0.951, 36.895, 77.382\n",
      "   CB : 1.225, 34.718, 76.092\n",
      "   CG : 2.159, 34.156, 74.999\n",
      "   OD1: 1.688, 33.361, 74.151\n",
      "   OD2: 3.378, 34.497, 75.007\n",
      "  1H  : 1.056, 35.74, 73.68\n",
      "  2H  : -0.43, 35.723, 73.478\n",
      "  3H  : 0.251, 36.981, 73.928\n",
      "   HA : -0.884, 35.037, 75.696\n",
      "  1HB : 1.839, 35.199, 76.854\n",
      "  2HB : 0.67, 33.892, 76.539\n",
      "Mirrored relative to coordinates in ResidueType: FALSE\n",
      "\n"
     ]
    }
   ],
   "source": [
    "print(native_pose.residue(1))"
   ]
  },
  {
   "cell_type": "code",
   "execution_count": 7,
   "metadata": {},
   "outputs": [],
   "source": [
    "pose = prs.pose_from_sequence(native_pose.sequence())\n",
    "test_pose = prs.Pose()\n",
    "test_pose.assign(pose)\n",
    "test_pose.pdb_info().name('Linearized Pose')"
   ]
  },
  {
   "cell_type": "code",
   "execution_count": 8,
   "metadata": {},
   "outputs": [
    {
     "data": {
      "text/plain": [
       "NGLWidget()"
      ]
     },
     "metadata": {},
     "output_type": "display_data"
    }
   ],
   "source": [
    "view = ngl.show_rosetta(test_pose)\n",
    "view.add_ball_and_stick()\n",
    "view"
   ]
  },
  {
   "cell_type": "code",
   "execution_count": 9,
   "metadata": {},
   "outputs": [],
   "source": [
    "to_centroid = prs.SwitchResidueTypeSetMover('centroid')\n",
    "to_full_atom = prs.SwitchResidueTypeSetMover('fa_standard')"
   ]
  },
  {
   "cell_type": "code",
   "execution_count": 10,
   "metadata": {},
   "outputs": [
    {
     "name": "stdout",
     "output_type": "stream",
     "text": [
      "core.util.switchresiduetypeset: [ WARNING ] When switching to a fa_standard ResidueTypeSet:  Pose already contains fa_standard ResidueTypes.\n",
      "basic.io.database: Database file opened: scoring/score_functions/elec_cp_reps.dat\n",
      "core.scoring.elec.util: Read 40 countpair representative atoms\n",
      "core.pack.dunbrack.RotamerLibrary: shapovalov_lib_fixes_enable option is true.\n",
      "core.pack.dunbrack.RotamerLibrary: shapovalov_lib::shap_dun10_smooth_level of 1( aka lowest_smooth ) got activated.\n",
      "core.pack.dunbrack.RotamerLibrary: Binary rotamer library selected: /anaconda3/envs/pyrosetta/lib/python3.6/site-packages/pyrosetta-2019.10+release.fd1bdffb01b-py3.6-macosx-10.7-x86_64.egg/pyrosetta/database/rotamer/shapovalov/StpDwn_0-0-0/Dunbrack10.lib.bin\n",
      "core.pack.dunbrack.RotamerLibrary: Using Dunbrack library binary file '/anaconda3/envs/pyrosetta/lib/python3.6/site-packages/pyrosetta-2019.10+release.fd1bdffb01b-py3.6-macosx-10.7-x86_64.egg/pyrosetta/database/rotamer/shapovalov/StpDwn_0-0-0/Dunbrack10.lib.bin'.\n",
      "core.pack.dunbrack.RotamerLibrary: Dunbrack 2010 library took 0.255034 seconds to load from binary\n",
      "Full Atom Score: 46617.13925908482\n",
      "core.chemical.GlobalResidueTypeSet: Finished initializing centroid residue type set.  Created 62 residue types\n",
      "core.chemical.GlobalResidueTypeSet: Total time to initialize 0.023639 seconds.\n",
      "Centroid Score: 454.12286307835507\n"
     ]
    }
   ],
   "source": [
    "to_full_atom.apply(test_pose)\n",
    "print('Full Atom Score:', scorefxn_high(test_pose))\n",
    "to_centroid.apply(test_pose)\n",
    "print('Centroid Score:', scorefxn_low(test_pose))"
   ]
  },
  {
   "cell_type": "code",
   "execution_count": 11,
   "metadata": {},
   "outputs": [
    {
     "data": {
      "text/plain": [
       "NGLWidget()"
      ]
     },
     "metadata": {},
     "output_type": "display_data"
    }
   ],
   "source": [
    "view = ngl.show_rosetta(test_pose)\n",
    "view.add_ball_and_stick()\n",
    "view"
   ]
  },
  {
   "cell_type": "code",
   "execution_count": 12,
   "metadata": {},
   "outputs": [
    {
     "name": "stdout",
     "output_type": "stream",
     "text": [
      "Residue 1: ASP:NtermProteinFull (ASP, D):\n",
      "Base: ASP\n",
      " Properties: POLYMER PROTEIN CANONICAL_AA LOWER_TERMINUS POLAR CHARGED NEGATIVE_CHARGE ALPHA_AA L_AA\n",
      " Variant types: LOWER_TERMINUS_VARIANT\n",
      " Main-chain atoms:  N    CA   C  \n",
      " Backbone atoms:    N    CA   C    O    H  \n",
      " Side-chain atoms:  CB   CEN\n",
      "Atom Coordinates:\n",
      "   N  : 0, 0, 0\n",
      "   CA : 1.458, 0, 0\n",
      "   C  : 2.00885, 1.42017, 0\n",
      "   O  : 1.25096, 2.39022, -2.58987e-16\n",
      "   CB : 1.99452, -0.771871, -1.208\n",
      "   CEN: 2.35051, -1.69379, -1.45468\n",
      "   H  : -0.5, -0.433013, -0.75\n",
      "Mirrored relative to coordinates in ResidueType: FALSE\n",
      "\n"
     ]
    }
   ],
   "source": [
    "print(test_pose.residue(1))"
   ]
  },
  {
   "cell_type": "code",
   "execution_count": 13,
   "metadata": {},
   "outputs": [],
   "source": [
    "long_frag_filename = 'test9_fragments.txt'\n",
    "long_frag_length = 9\n",
    "short_frag_filename = 'test3_fragments.txt'\n",
    "short_frag_length = 3\n",
    "\n",
    "long_inserts=5\n",
    "short_inserts=5\n",
    "\n",
    "kT = 3.0\n",
    "cycles = 1000\n",
    "jobs = 50\n",
    "job_output = 'fold_output/structure'"
   ]
  },
  {
   "cell_type": "code",
   "execution_count": 14,
   "metadata": {},
   "outputs": [
    {
     "name": "stdout",
     "output_type": "stream",
     "text": [
      "core.fragments.ConstantLengthFragSet: finished reading top 200 9mer fragments from file test9_fragments.txt\n",
      "core.fragments.ConstantLengthFragSet: finished reading top 200 3mer fragments from file test3_fragments.txt\n"
     ]
    }
   ],
   "source": [
    "movemap = prs.MoveMap()\n",
    "movemap.set_bb(True)\n",
    "\n",
    "fragset_long = rosetta.core.fragment.ConstantLengthFragSet(long_frag_length, long_frag_filename)\n",
    "long_frag_mover = rosetta.protocols.simple_moves.ClassicFragmentMover(fragset_long, movemap)\n",
    "\n",
    "fragset_short = rosetta.core.fragment.ConstantLengthFragSet(short_frag_length, short_frag_filename)\n",
    "short_frag_mover = rosetta.protocols.simple_moves.ClassicFragmentMover(fragset_short, movemap)\n",
    "\n",
    "insert_long_frag = prs.RepeatMover(long_frag_mover, long_inserts)\n",
    "insert_short_frag = prs.RepeatMover(short_frag_mover, short_inserts)"
   ]
  },
  {
   "cell_type": "code",
   "execution_count": 15,
   "metadata": {},
   "outputs": [],
   "source": [
    "folding_mover = prs.SequenceMover()\n",
    "folding_mover.add_mover(insert_long_frag)\n",
    "folding_mover.add_mover(insert_short_frag)"
   ]
  },
  {
   "cell_type": "code",
   "execution_count": 16,
   "metadata": {},
   "outputs": [],
   "source": [
    "test_pose.assign(pose)\n",
    "to_centroid.apply(test_pose)"
   ]
  },
  {
   "cell_type": "code",
   "execution_count": 17,
   "metadata": {},
   "outputs": [],
   "source": [
    "mc = prs.MonteCarlo(test_pose, scorefxn_low, kT)\n",
    "trial = prs.TrialMover(folding_mover, mc)"
   ]
  },
  {
   "cell_type": "code",
   "execution_count": 18,
   "metadata": {},
   "outputs": [],
   "source": [
    "folding = prs.RepeatMover(trial, cycles)"
   ]
  },
  {
   "cell_type": "code",
   "execution_count": 19,
   "metadata": {},
   "outputs": [],
   "source": [
    "scores = [0] * (jobs + 1)\n",
    "scores[0] = scorefxn_low(test_pose)"
   ]
  },
  {
   "cell_type": "code",
   "execution_count": 20,
   "metadata": {},
   "outputs": [
    {
     "name": "stdout",
     "output_type": "stream",
     "text": [
      "Working on decoy: fold_output/structure_22.pdb\n"
     ]
    }
   ],
   "source": [
    "if os.path.isdir(os.path.dirname(job_output)):\n",
    "    shutil.rmtree(os.path.dirname(job_output), ignore_errors=True)\n",
    "os.makedirs(os.path.dirname(job_output))\n",
    "jd = prs.PyJobDistributor(job_output, nstruct=jobs, scorefxn=scorefxn_high)"
   ]
  },
  {
   "cell_type": "code",
   "execution_count": 21,
   "metadata": {
    "scrolled": true
   },
   "outputs": [
    {
     "name": "stdout",
     "output_type": "stream",
     "text": [
      "Working on decoy: fold_output/structure_23.pdb\n",
      "Working on decoy: fold_output/structure_25.pdb\n",
      "Working on decoy: fold_output/structure_15.pdb\n",
      "Working on decoy: fold_output/structure_20.pdb\n",
      "Working on decoy: fold_output/structure_36.pdb\n",
      "Working on decoy: fold_output/structure_10.pdb\n",
      "Working on decoy: fold_output/structure_44.pdb\n",
      "Working on decoy: fold_output/structure_11.pdb\n",
      "Working on decoy: fold_output/structure_38.pdb\n",
      "Working on decoy: fold_output/structure_35.pdb\n",
      "Working on decoy: fold_output/structure_41.pdb\n",
      "Working on decoy: fold_output/structure_46.pdb\n",
      "Working on decoy: fold_output/structure_5.pdb\n",
      "Working on decoy: fold_output/structure_12.pdb\n",
      "Working on decoy: fold_output/structure_39.pdb\n",
      "Working on decoy: fold_output/structure_26.pdb\n",
      "Working on decoy: fold_output/structure_14.pdb\n",
      "Working on decoy: fold_output/structure_17.pdb\n",
      "Working on decoy: fold_output/structure_7.pdb\n",
      "Working on decoy: fold_output/structure_45.pdb\n",
      "Working on decoy: fold_output/structure_4.pdb\n",
      "Working on decoy: fold_output/structure_3.pdb\n",
      "Working on decoy: fold_output/structure_37.pdb\n",
      "Working on decoy: fold_output/structure_27.pdb\n",
      "Working on decoy: fold_output/structure_19.pdb\n",
      "Working on decoy: fold_output/structure_49.pdb\n",
      "Working on decoy: fold_output/structure_2.pdb\n",
      "Working on decoy: fold_output/structure_34.pdb\n",
      "Working on decoy: fold_output/structure_33.pdb\n",
      "Working on decoy: fold_output/structure_9.pdb\n",
      "Working on decoy: fold_output/structure_40.pdb\n",
      "Working on decoy: fold_output/structure_6.pdb\n",
      "Working on decoy: fold_output/structure_0.pdb\n",
      "Working on decoy: fold_output/structure_28.pdb\n",
      "Working on decoy: fold_output/structure_47.pdb\n",
      "Working on decoy: fold_output/structure_48.pdb\n",
      "Working on decoy: fold_output/structure_8.pdb\n",
      "Working on decoy: fold_output/structure_32.pdb\n",
      "Working on decoy: fold_output/structure_18.pdb\n",
      "Working on decoy: fold_output/structure_43.pdb\n",
      "Working on decoy: fold_output/structure_13.pdb\n",
      "Working on decoy: fold_output/structure_16.pdb\n",
      "Working on decoy: fold_output/structure_1.pdb\n",
      "Working on decoy: fold_output/structure_24.pdb\n",
      "Working on decoy: fold_output/structure_30.pdb\n",
      "Working on decoy: fold_output/structure_42.pdb\n",
      "Working on decoy: fold_output/structure_31.pdb\n",
      "Working on decoy: fold_output/structure_29.pdb\n",
      "Working on decoy: fold_output/structure_21.pdb\n"
     ]
    }
   ],
   "source": [
    "counter = 0 \n",
    "while not jd.job_complete:\n",
    "    # a. set necessary variables for the new trajectory\n",
    "    # -reload the starting pose\n",
    "    test_pose.assign(pose)\n",
    "    to_centroid.apply(test_pose)\n",
    "    # -change the pose's PDBInfo.name, for the PyMOL_Observer\n",
    "    counter += 1\n",
    "    test_pose.pdb_info().name(job_output + '_' + str(counter))\n",
    "    # -reset the MonteCarlo object (sets lowest_score to that of test_pose)\n",
    "    mc.reset(test_pose)\n",
    "\n",
    "    #### if you create a custom protocol, you may have additional\n",
    "    ####    variables to reset, such as kT\n",
    "\n",
    "    #### if you create a custom protocol, this section will most likely\n",
    "    ####    change, many protocols exist as single Movers or can be\n",
    "    ####    chained together in a sequence (see above) so you need\n",
    "    ####    only apply the final Mover\n",
    "    # b. apply the refinement protocol\n",
    "    folding.apply(test_pose)\n",
    "\n",
    "    ####\n",
    "    # c. export the lowest scoring decoy structure for this trajectory\n",
    "    # -recover the lowest scoring decoy structure\n",
    "    mc.recover_low(test_pose)\n",
    "    # -store the final score for this trajectory\n",
    "    # -convert the decoy to fullatom\n",
    "    # the sidechain conformations will all be default,\n",
    "    #    normally, the decoys would NOT be converted to fullatom before\n",
    "    #    writing them to PDB (since a large number of trajectories would\n",
    "    #    be considered and their fullatom score are unnecessary)\n",
    "    # here the fullatom mode is reproduced to make the output easier to\n",
    "    #    understand and manipulate, PyRosetta can load in PDB files of\n",
    "    #    centroid structures, however you must convert to fullatom for\n",
    "    #    nearly any other application\n",
    "    to_full_atom.apply(test_pose)\n",
    "    scores[counter] = scorefxn_high(test_pose)\n",
    "    # -output the fullatom decoy structure into a PDB file\n",
    "    jd.output_decoy(test_pose)\n",
    "    # -export the final structure to PyMOL\n",
    "    test_pose.pdb_info().name(job_output + '_' + str(counter) + '_fa')"
   ]
  },
  {
   "cell_type": "code",
   "execution_count": 22,
   "metadata": {},
   "outputs": [
    {
     "name": "stdout",
     "output_type": "stream",
     "text": [
      "core.import_pose.import_pose: File 'fold_output/structure_4.pdb' automatically determined to be of type PDB\n",
      "core.import_pose.import_pose: File 'fold_output/structure_5.pdb' automatically determined to be of type PDB\n",
      "core.import_pose.import_pose: File 'fold_output/structure_7.pdb' automatically determined to be of type PDB\n",
      "core.import_pose.import_pose: File 'fold_output/structure_6.pdb' automatically determined to be of type PDB\n",
      "core.import_pose.import_pose: File 'fold_output/structure_2.pdb' automatically determined to be of type PDB\n",
      "core.import_pose.import_pose: File 'fold_output/structure_3.pdb' automatically determined to be of type PDB\n",
      "core.import_pose.import_pose: File 'fold_output/structure_1.pdb' automatically determined to be of type PDB\n",
      "core.import_pose.import_pose: File 'fold_output/structure_48.pdb' automatically determined to be of type PDB\n",
      "core.import_pose.import_pose: File 'fold_output/structure_49.pdb' automatically determined to be of type PDB\n",
      "core.import_pose.import_pose: File 'fold_output/structure_0.pdb' automatically determined to be of type PDB\n",
      "core.import_pose.import_pose: File 'fold_output/structure_12.pdb' automatically determined to be of type PDB\n",
      "core.import_pose.import_pose: File 'fold_output/structure_13.pdb' automatically determined to be of type PDB\n",
      "core.import_pose.import_pose: File 'fold_output/structure_11.pdb' automatically determined to be of type PDB\n",
      "core.import_pose.import_pose: File 'fold_output/structure_39.pdb' automatically determined to be of type PDB\n",
      "core.import_pose.import_pose: File 'fold_output/structure_38.pdb' automatically determined to be of type PDB\n",
      "core.import_pose.import_pose: File 'fold_output/structure_10.pdb' automatically determined to be of type PDB\n",
      "core.import_pose.import_pose: File 'fold_output/structure_28.pdb' automatically determined to be of type PDB\n",
      "core.import_pose.import_pose: File 'fold_output/structure_14.pdb' automatically determined to be of type PDB\n",
      "core.import_pose.import_pose: File 'fold_output/structure_15.pdb' automatically determined to be of type PDB\n",
      "core.import_pose.import_pose: File 'fold_output/structure_29.pdb' automatically determined to be of type PDB\n",
      "core.import_pose.import_pose: File 'fold_output/structure_17.pdb' automatically determined to be of type PDB\n",
      "core.import_pose.import_pose: File 'fold_output/structure_16.pdb' automatically determined to be of type PDB\n",
      "core.import_pose.import_pose: File 'fold_output/structure_33.pdb' automatically determined to be of type PDB\n",
      "core.import_pose.import_pose: File 'fold_output/structure_27.pdb' automatically determined to be of type PDB\n",
      "core.import_pose.import_pose: File 'fold_output/structure_26.pdb' automatically determined to be of type PDB\n",
      "core.import_pose.import_pose: File 'fold_output/structure_32.pdb' automatically determined to be of type PDB\n",
      "core.import_pose.import_pose: File 'fold_output/structure_24.pdb' automatically determined to be of type PDB\n",
      "core.import_pose.import_pose: File 'fold_output/structure_30.pdb' automatically determined to be of type PDB\n",
      "core.import_pose.import_pose: File 'fold_output/structure_18.pdb' automatically determined to be of type PDB\n",
      "core.import_pose.import_pose: File 'fold_output/structure_19.pdb' automatically determined to be of type PDB\n",
      "core.import_pose.import_pose: File 'fold_output/structure_31.pdb' automatically determined to be of type PDB\n",
      "core.import_pose.import_pose: File 'fold_output/structure_25.pdb' automatically determined to be of type PDB\n",
      "core.import_pose.import_pose: File 'fold_output/structure_21.pdb' automatically determined to be of type PDB\n",
      "core.import_pose.import_pose: File 'fold_output/structure_35.pdb' automatically determined to be of type PDB\n",
      "core.import_pose.import_pose: File 'fold_output/structure_34.pdb' automatically determined to be of type PDB\n",
      "core.import_pose.import_pose: File 'fold_output/structure_20.pdb' automatically determined to be of type PDB\n",
      "core.import_pose.import_pose: File 'fold_output/structure_36.pdb' automatically determined to be of type PDB\n",
      "core.import_pose.import_pose: File 'fold_output/structure_22.pdb' automatically determined to be of type PDB\n",
      "core.import_pose.import_pose: File 'fold_output/structure_23.pdb' automatically determined to be of type PDB\n",
      "core.import_pose.import_pose: File 'fold_output/structure_37.pdb' automatically determined to be of type PDB\n",
      "core.import_pose.import_pose: File 'fold_output/structure_44.pdb' automatically determined to be of type PDB\n",
      "core.import_pose.import_pose: File 'fold_output/structure_45.pdb' automatically determined to be of type PDB\n",
      "core.import_pose.import_pose: File 'fold_output/structure_47.pdb' automatically determined to be of type PDB\n",
      "core.import_pose.import_pose: File 'fold_output/structure_46.pdb' automatically determined to be of type PDB\n",
      "core.import_pose.import_pose: File 'fold_output/structure_42.pdb' automatically determined to be of type PDB\n",
      "core.import_pose.import_pose: File 'fold_output/structure_43.pdb' automatically determined to be of type PDB\n",
      "core.import_pose.import_pose: File 'fold_output/structure_8.pdb' automatically determined to be of type PDB\n",
      "core.import_pose.import_pose: File 'fold_output/structure_41.pdb' automatically determined to be of type PDB\n",
      "core.import_pose.import_pose: File 'fold_output/structure_40.pdb' automatically determined to be of type PDB\n",
      "core.import_pose.import_pose: File 'fold_output/structure_9.pdb' automatically determined to be of type PDB\n"
     ]
    }
   ],
   "source": [
    "decoy_poses = [prs.pose_from_pdb(f) for f in glob.glob(job_output + '*.pdb')]"
   ]
  },
  {
   "cell_type": "code",
   "execution_count": 23,
   "metadata": {},
   "outputs": [],
   "source": [
    "def align_and_get_rmsds(native_pose, decoy_poses):\n",
    "    prs.rosetta.core.pose.full_model_info.make_sure_full_model_info_is_setup(native_pose)\n",
    "    rmsds = []\n",
    "    for p in decoy_poses:\n",
    "        prs.rosetta.core.pose.full_model_info.make_sure_full_model_info_is_setup(p)\n",
    "        rmsds += [prs.rosetta.protocols.stepwise.modeler.align.superimpose_with_stepwise_aligner(native_pose, p)]\n",
    "    return rmsds"
   ]
  },
  {
   "cell_type": "code",
   "execution_count": 24,
   "metadata": {},
   "outputs": [
    {
     "name": "stdout",
     "output_type": "stream",
     "text": [
      "protocols.stepwise.modeler.align.StepWisePoseAligner: RMSD 0.000 (0 atoms in ), superimposed on 349 atoms in 1-116 (RMSD 15.2121494)\n",
      "protocols.stepwise.modeler.align.StepWisePoseAligner: RMSD 0.000 (0 atoms in ), superimposed on 349 atoms in 1-116 (RMSD 17.0218803)\n",
      "protocols.stepwise.modeler.align.StepWisePoseAligner: RMSD 0.000 (0 atoms in ), superimposed on 349 atoms in 1-116 (RMSD 17.0667456)\n",
      "protocols.stepwise.modeler.align.StepWisePoseAligner: RMSD 0.000 (0 atoms in ), superimposed on 349 atoms in 1-116 (RMSD 13.3502234)\n",
      "protocols.stepwise.modeler.align.StepWisePoseAligner: RMSD 0.000 (0 atoms in ), superimposed on 349 atoms in 1-116 (RMSD 11.6867353)\n",
      "protocols.stepwise.modeler.align.StepWisePoseAligner: RMSD 0.000 (0 atoms in ), superimposed on 349 atoms in 1-116 (RMSD 11.0417020)\n",
      "protocols.stepwise.modeler.align.StepWisePoseAligner: RMSD 0.000 (0 atoms in ), superimposed on 349 atoms in 1-116 (RMSD 16.1847525)\n",
      "protocols.stepwise.modeler.align.StepWisePoseAligner: RMSD 0.000 (0 atoms in ), superimposed on 349 atoms in 1-116 (RMSD 11.1716356)\n",
      "protocols.stepwise.modeler.align.StepWisePoseAligner: RMSD 0.000 (0 atoms in ), superimposed on 349 atoms in 1-116 (RMSD 11.0160426)\n",
      "protocols.stepwise.modeler.align.StepWisePoseAligner: RMSD 0.000 (0 atoms in ), superimposed on 349 atoms in 1-116 (RMSD 14.1441492)\n",
      "protocols.stepwise.modeler.align.StepWisePoseAligner: RMSD 0.000 (0 atoms in ), superimposed on 349 atoms in 1-116 (RMSD 13.9700472)\n",
      "protocols.stepwise.modeler.align.StepWisePoseAligner: RMSD 0.000 (0 atoms in ), superimposed on 349 atoms in 1-116 (RMSD 11.6684903)\n",
      "protocols.stepwise.modeler.align.StepWisePoseAligner: RMSD 0.000 (0 atoms in ), superimposed on 349 atoms in 1-116 (RMSD 12.1575542)\n",
      "protocols.stepwise.modeler.align.StepWisePoseAligner: RMSD 0.000 (0 atoms in ), superimposed on 349 atoms in 1-116 (RMSD 15.0759219)\n",
      "protocols.stepwise.modeler.align.StepWisePoseAligner: RMSD 0.000 (0 atoms in ), superimposed on 349 atoms in 1-116 (RMSD 13.0918586)\n",
      "protocols.stepwise.modeler.align.StepWisePoseAligner: RMSD 0.000 (0 atoms in ), superimposed on 349 atoms in 1-116 (RMSD 18.7916158)\n",
      "protocols.stepwise.modeler.align.StepWisePoseAligner: RMSD 0.000 (0 atoms in ), superimposed on 349 atoms in 1-116 (RMSD 12.0120349)\n",
      "protocols.stepwise.modeler.align.StepWisePoseAligner: RMSD 0.000 (0 atoms in ), superimposed on 349 atoms in 1-116 (RMSD 14.4172980)\n",
      "protocols.stepwise.modeler.align.StepWisePoseAligner: RMSD 0.000 (0 atoms in ), superimposed on 349 atoms in 1-116 (RMSD 12.6478769)\n",
      "protocols.stepwise.modeler.align.StepWisePoseAligner: RMSD 0.000 (0 atoms in ), superimposed on 349 atoms in 1-116 (RMSD 15.1257224)\n",
      "protocols.stepwise.modeler.align.StepWisePoseAligner: RMSD 0.000 (0 atoms in ), superimposed on 349 atoms in 1-116 (RMSD 12.3965852)\n",
      "protocols.stepwise.modeler.align.StepWisePoseAligner: RMSD 0.000 (0 atoms in ), superimposed on 349 atoms in 1-116 (RMSD 14.8549506)\n",
      "protocols.stepwise.modeler.align.StepWisePoseAligner: RMSD 0.000 (0 atoms in ), superimposed on 349 atoms in 1-116 (RMSD 14.5096846)\n",
      "protocols.stepwise.modeler.align.StepWisePoseAligner: RMSD 0.000 (0 atoms in ), superimposed on 349 atoms in 1-116 (RMSD 14.4906548)\n",
      "protocols.stepwise.modeler.align.StepWisePoseAligner: RMSD 0.000 (0 atoms in ), superimposed on 349 atoms in 1-116 (RMSD 14.2467896)\n",
      "protocols.stepwise.modeler.align.StepWisePoseAligner: RMSD 0.000 (0 atoms in ), superimposed on 349 atoms in 1-116 (RMSD 12.9732345)\n",
      "protocols.stepwise.modeler.align.StepWisePoseAligner: RMSD 0.000 (0 atoms in ), superimposed on 349 atoms in 1-116 (RMSD 13.9511529)\n",
      "protocols.stepwise.modeler.align.StepWisePoseAligner: RMSD 0.000 (0 atoms in ), superimposed on 349 atoms in 1-116 (RMSD 15.1170590)\n",
      "protocols.stepwise.modeler.align.StepWisePoseAligner: RMSD 0.000 (0 atoms in ), superimposed on 349 atoms in 1-116 (RMSD 13.2492381)\n",
      "protocols.stepwise.modeler.align.StepWisePoseAligner: RMSD 0.000 (0 atoms in ), superimposed on 349 atoms in 1-116 (RMSD 13.5726168)\n",
      "protocols.stepwise.modeler.align.StepWisePoseAligner: RMSD 0.000 (0 atoms in ), superimposed on 349 atoms in 1-116 (RMSD 12.1230725)\n",
      "protocols.stepwise.modeler.align.StepWisePoseAligner: RMSD 0.000 (0 atoms in ), superimposed on 349 atoms in 1-116 (RMSD 12.5542777)\n",
      "protocols.stepwise.modeler.align.StepWisePoseAligner: RMSD 0.000 (0 atoms in ), superimposed on 349 atoms in 1-116 (RMSD 17.1033112)\n",
      "protocols.stepwise.modeler.align.StepWisePoseAligner: RMSD 0.000 (0 atoms in ), superimposed on 349 atoms in 1-116 (RMSD 12.4010603)\n",
      "protocols.stepwise.modeler.align.StepWisePoseAligner: RMSD 0.000 (0 atoms in ), superimposed on 349 atoms in 1-116 (RMSD 13.7356711)\n",
      "protocols.stepwise.modeler.align.StepWisePoseAligner: RMSD 0.000 (0 atoms in ), superimposed on 349 atoms in 1-116 (RMSD 13.8645053)\n",
      "protocols.stepwise.modeler.align.StepWisePoseAligner: RMSD 0.000 (0 atoms in ), superimposed on 349 atoms in 1-116 (RMSD 14.3302965)\n",
      "protocols.stepwise.modeler.align.StepWisePoseAligner: RMSD 0.000 (0 atoms in ), superimposed on 349 atoms in 1-116 (RMSD 14.8437827)\n",
      "protocols.stepwise.modeler.align.StepWisePoseAligner: RMSD 0.000 (0 atoms in ), superimposed on 349 atoms in 1-116 (RMSD 13.9919892)\n",
      "protocols.stepwise.modeler.align.StepWisePoseAligner: RMSD 0.000 (0 atoms in ), superimposed on 349 atoms in 1-116 (RMSD 16.0303595)\n",
      "protocols.stepwise.modeler.align.StepWisePoseAligner: RMSD 0.000 (0 atoms in ), superimposed on 349 atoms in 1-116 (RMSD 15.8962117)\n",
      "protocols.stepwise.modeler.align.StepWisePoseAligner: RMSD 0.000 (0 atoms in ), superimposed on 349 atoms in 1-116 (RMSD 12.4526208)\n",
      "protocols.stepwise.modeler.align.StepWisePoseAligner: RMSD 0.000 (0 atoms in ), superimposed on 349 atoms in 1-116 (RMSD 16.4099451)\n",
      "protocols.stepwise.modeler.align.StepWisePoseAligner: RMSD 0.000 (0 atoms in ), superimposed on 349 atoms in 1-116 (RMSD 13.7051424)\n",
      "protocols.stepwise.modeler.align.StepWisePoseAligner: RMSD 0.000 (0 atoms in ), superimposed on 349 atoms in 1-116 (RMSD 13.0844030)\n",
      "protocols.stepwise.modeler.align.StepWisePoseAligner: RMSD 0.000 (0 atoms in ), superimposed on 349 atoms in 1-116 (RMSD 11.1903136)\n",
      "protocols.stepwise.modeler.align.StepWisePoseAligner: RMSD 0.000 (0 atoms in ), superimposed on 349 atoms in 1-116 (RMSD 14.2154114)\n",
      "protocols.stepwise.modeler.align.StepWisePoseAligner: RMSD 0.000 (0 atoms in ), superimposed on 349 atoms in 1-116 (RMSD 10.4731038)\n",
      "protocols.stepwise.modeler.align.StepWisePoseAligner: RMSD 0.000 (0 atoms in ), superimposed on 349 atoms in 1-116 (RMSD 15.5963364)\n",
      "protocols.stepwise.modeler.align.StepWisePoseAligner: RMSD 0.000 (0 atoms in ), superimposed on 349 atoms in 1-116 (RMSD 13.1833846)\n"
     ]
    }
   ],
   "source": [
    "rmsds = align_and_get_rmsds(native_pose, decoy_poses)"
   ]
  },
  {
   "cell_type": "code",
   "execution_count": 25,
   "metadata": {},
   "outputs": [],
   "source": [
    "rmsd_data = []\n",
    "for i in range(1, len(decoy_poses)):  # print out the job scores\n",
    "    rmsd_data.append({'structure': decoy_poses[i].pdb_info().name(), 'rmsd': rmsds[i]})"
   ]
  },
  {
   "cell_type": "code",
   "execution_count": 26,
   "metadata": {},
   "outputs": [],
   "source": [
    "rmsd_df = pd.DataFrame(rmsd_data)"
   ]
  },
  {
   "cell_type": "code",
   "execution_count": null,
   "metadata": {},
   "outputs": [],
   "source": [
    "rmsd_df.sort_values('rmsd')"
   ]
  }
 ],
 "metadata": {
  "kernelspec": {
   "display_name": "Python 3",
   "language": "python",
   "name": "python3"
  },
  "language_info": {
   "codemirror_mode": {
    "name": "ipython",
    "version": 3
   },
   "file_extension": ".py",
   "mimetype": "text/x-python",
   "name": "python",
   "nbconvert_exporter": "python",
   "pygments_lexer": "ipython3",
   "version": "3.6.8"
  }
 },
 "nbformat": 4,
 "nbformat_minor": 1
}
